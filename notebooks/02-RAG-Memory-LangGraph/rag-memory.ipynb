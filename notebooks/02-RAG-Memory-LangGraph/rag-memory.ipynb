{
 "cells": [
  {
   "cell_type": "code",
   "execution_count": 1,
   "id": "3cceee4c",
   "metadata": {},
   "outputs": [],
   "source": [
    "import warnings\n",
    "warnings.filterwarnings(\"ignore\")"
   ]
  },
  {
   "cell_type": "code",
   "execution_count": 2,
   "id": "abb7042f",
   "metadata": {},
   "outputs": [],
   "source": [
    "import os\n",
    "from dotenv import load_dotenv\n",
    "from langchain_groq import ChatGroq\n",
    "load_dotenv()\n",
    "from pinecone import Pinecone\n",
    "from langchain_huggingface import HuggingFaceEmbeddings"
   ]
  },
  {
   "cell_type": "code",
   "execution_count": 3,
   "id": "1077723f",
   "metadata": {},
   "outputs": [],
   "source": [
    "os.environ[\"GROQ_API_KEY\"] = os.getenv(\"GROQ_API_KEY\")\n",
    "os.environ[\"HF_TOKEN\"] = os.getenv(\"HF_TOKEN\")\n",
    "os.environ[\"PINECONE_API_KEY\"] = os.getenv(\"PINECONE_API_KEY\")\n",
    "\n",
    "pinecone_api_key = os.getenv(\"PINECONE_API_KEY\")"
   ]
  },
  {
   "cell_type": "code",
   "execution_count": 4,
   "id": "47136a15",
   "metadata": {},
   "outputs": [
    {
     "data": {
      "text/plain": [
       "<pinecone.db_data.index.Index at 0x20703db4910>"
      ]
     },
     "execution_count": 4,
     "metadata": {},
     "output_type": "execute_result"
    }
   ],
   "source": [
    "pc = Pinecone(api_key=pinecone_api_key)\n",
    "index_name = \"10ms-db-bangla-book\"\n",
    "\n",
    "index = pc.Index(index_name)\n",
    "index"
   ]
  },
  {
   "cell_type": "code",
   "execution_count": 5,
   "id": "5ce523bf",
   "metadata": {},
   "outputs": [],
   "source": [
    "embeddings = HuggingFaceEmbeddings(model_name=\"sentence-transformers/all-mpnet-base-v2\")"
   ]
  },
  {
   "cell_type": "code",
   "execution_count": 6,
   "id": "74625d65",
   "metadata": {},
   "outputs": [
    {
     "data": {
      "text/plain": [
       "<langchain_pinecone.vectorstores.PineconeVectorStore at 0x2071a1a3790>"
      ]
     },
     "execution_count": 6,
     "metadata": {},
     "output_type": "execute_result"
    }
   ],
   "source": [
    "from langchain_pinecone import PineconeVectorStore\n",
    "\n",
    "vector_store = PineconeVectorStore(index=index, embedding=embeddings)\n",
    "vector_store"
   ]
  },
  {
   "cell_type": "code",
   "execution_count": 8,
   "id": "ce074c89",
   "metadata": {},
   "outputs": [],
   "source": [
    "# vector_store.add_documents()"
   ]
  },
  {
   "cell_type": "code",
   "execution_count": 9,
   "id": "7a704378",
   "metadata": {},
   "outputs": [],
   "source": [
    "retriever = vector_store.as_retriever(\n",
    "    search_type = \"similarity\",\n",
    "    search_kwargs={\n",
    "        \"k\": 3\n",
    "    }\n",
    ")"
   ]
  },
  {
   "cell_type": "code",
   "execution_count": 10,
   "id": "100be3a8",
   "metadata": {},
   "outputs": [],
   "source": [
    "from langchain_groq import ChatGroq\n",
    "\n",
    "llm = ChatGroq(\n",
    "    model=os.getenv(\"LLAMA_MODEL\")\n",
    ")"
   ]
  },
  {
   "cell_type": "markdown",
   "id": "3f7b1df2",
   "metadata": {},
   "source": [
    "Rag Prompt"
   ]
  },
  {
   "cell_type": "code",
   "execution_count": 11,
   "id": "3c51b201",
   "metadata": {},
   "outputs": [],
   "source": [
    "from langchain.prompts import PromptTemplate\n",
    "\n",
    "rag_prompt = PromptTemplate(\n",
    "    template=(\n",
    "        \"তুমি একজন সহায়ক বাংলা শিক্ষক। নিচের প্রশ্নটির উত্তর দিতে হবে শুধুমাত্র প্রদত্ত প্রাসঙ্গিক তথ্য ব্যবহার করে। \"\n",
    "        \"যদি প্রশ্নের উত্তর নিচের প্রসঙ্গে না থাকে, তাহলে বিনয়ের সাথে বলবে যে উত্তর দেওয়ার মতো পর্যাপ্ত তথ্য নেই। \"\n",
    "        \"অতিরিক্ত কিছু কল্পনা বা অনুমান করো না।\\n\\n\"\n",
    "\n",
    "        \"প্রাসঙ্গিক প্রসঙ্গ:\\n{context}\\n\\n\"\n",
    "        \"প্রশ্ন:\\n{question}\\n\\n\"\n",
    "        \"উত্তর (বাংলায় সংক্ষিপ্ত এবং স্পষ্টভাবে দিন):\"\n",
    "    ),\n",
    "    input_variables=[\"question\", \"context\"],\n",
    ")"
   ]
  },
  {
   "cell_type": "code",
   "execution_count": 12,
   "id": "d8f9443b",
   "metadata": {},
   "outputs": [],
   "source": [
    "def format_docs(retriever_docs):\n",
    "    context_text = \"\\n\\n\".join(doc.page_content for doc in retriever_docs)\n",
    "    return context_text"
   ]
  },
  {
   "cell_type": "code",
   "execution_count": 13,
   "id": "394330a8",
   "metadata": {},
   "outputs": [],
   "source": [
    "from langchain_core.output_parsers import StrOutputParser\n",
    "from langchain_core.runnables import RunnablePassthrough\n",
    "\n",
    "from IPython.display import display, Image\n",
    "rag_chain = (\n",
    "    {\n",
    "        \"context\": retriever | format_docs,\n",
    "        \"question\": RunnablePassthrough()\n",
    "    }\n",
    "    | rag_prompt\n",
    "    | llm\n",
    "    | StrOutputParser()\n",
    ")\n",
    "\n",
    "\n",
    "# display(Image(rag_chain.get_graph().draw_mermaid_png()))"
   ]
  },
  {
   "cell_type": "markdown",
   "id": "3933c0be",
   "metadata": {},
   "source": [
    "Defining the Graph Workflow"
   ]
  },
  {
   "cell_type": "code",
   "execution_count": 14,
   "id": "355b0f81",
   "metadata": {},
   "outputs": [],
   "source": [
    "from typing import TypedDict, Sequence, Annotated\n",
    "from langchain_core.messages import BaseMessage\n",
    "from pydantic import Field\n",
    "import operator\n",
    "\n",
    "class State(TypedDict):\n",
    "    \"\"\"This is is my graph state where store all conversations.\"\"\"\n",
    "    messages: Annotated[Sequence[BaseMessage], operator.add]\n",
    "    docs: str"
   ]
  },
  {
   "cell_type": "markdown",
   "id": "5eaf6c8c",
   "metadata": {},
   "source": [
    "RAG Node"
   ]
  },
  {
   "cell_type": "code",
   "execution_count": 15,
   "id": "3341d4cc",
   "metadata": {},
   "outputs": [],
   "source": [
    "def rag_node(state: State):\n",
    "    print(\"--RAG Call--\")\n",
    "    \n",
    "    question = state['messages'][0]\n",
    "    print(question)\n",
    "    \n",
    "    \n",
    "    \n",
    "    rag_chain = (\n",
    "        {\n",
    "            \"context\": retriever | format_docs,\n",
    "            \"question\": RunnablePassthrough()\n",
    "        }\n",
    "        | rag_prompt\n",
    "        | llm\n",
    "        | StrOutputParser()\n",
    "    )\n",
    "    response = rag_chain.invoke(question)\n",
    "    print(\"rag-response\", response)\n",
    "    \n",
    "    return {\n",
    "        \"messages\": [response]\n",
    "    }"
   ]
  },
  {
   "cell_type": "code",
   "execution_count": 16,
   "id": "032de9a0",
   "metadata": {},
   "outputs": [
    {
     "data": {
      "image/png": "[encoded data removed]",
      "text/plain": [
       "<IPython.core.display.Image object>"
      ]
     },
     "metadata": {},
     "output_type": "display_data"
    }
   ],
   "source": [
    "from langgraph.graph import START, StateGraph, END\n",
    "from IPython.display import display, Image\n",
    "from langgraph.checkpoint.memory import MemorySaver\n",
    "\n",
    "builder = StateGraph(State)\n",
    "\n",
    "builder.add_node(\"RAG_Pipeline\", rag_node)\n",
    "\n",
    "builder.add_edge(START, \"RAG_Pipeline\")\n",
    "builder.add_edge(\"RAG_Pipeline\", END)\n",
    "\n",
    "memory = MemorySaver()\n",
    "graph = builder.compile(checkpointer=memory)\n",
    "\n",
    "display(Image(graph.get_graph().draw_mermaid_png()))"
   ]
  },
  {
   "cell_type": "code",
   "execution_count": 17,
   "id": "1a33ce02",
   "metadata": {},
   "outputs": [],
   "source": [
    "config = {\n",
    "    \"configurable\": {\n",
    "        \"thread_id\": \"chat_1\"\n",
    "    }\n",
    "}"
   ]
  },
  {
   "cell_type": "code",
   "execution_count": 18,
   "id": "44facc9a",
   "metadata": {},
   "outputs": [
    {
     "name": "stdout",
     "output_type": "stream",
     "text": [
      "--RAG Call--\n",
      "অনুপমের ভাষায় সুপুরুষ কাকে বলা হয়েছে?\n",
      "rag-response উত্তর দেওয়ার মতো পর্যাপ্ত তথ্য নেই।\n"
     ]
    }
   ],
   "source": [
    "response = graph.invoke(\n",
    "    {\n",
    "        \"messages\": [\"অনুপমের ভাষায় সুপুরুষ কাকে বলা হয়েছে?\"]\n",
    "    },\n",
    "    config=config\n",
    ")"
   ]
  },
  {
   "cell_type": "code",
   "execution_count": 19,
   "id": "8e2c780f",
   "metadata": {},
   "outputs": [
    {
     "data": {
      "text/plain": [
       "'উত্তর দেওয়ার মতো পর্যাপ্ত তথ্য নেই।'"
      ]
     },
     "execution_count": 19,
     "metadata": {},
     "output_type": "execute_result"
    }
   ],
   "source": [
    "response[\"messages\"][-1]"
   ]
  },
  {
   "cell_type": "code",
   "execution_count": 20,
   "id": "17dc0bab",
   "metadata": {},
   "outputs": [
    {
     "data": {
      "text/plain": [
       "{'messages': ['অনুপমের ভাষায় সুপুরুষ কাকে বলা হয়েছে?',\n",
       "  'উত্তর দেওয়ার মতো পর্যাপ্ত তথ্য নেই।']}"
      ]
     },
     "execution_count": 20,
     "metadata": {},
     "output_type": "execute_result"
    }
   ],
   "source": [
    "graph.get_state(config=config).values"
   ]
  },
  {
   "cell_type": "markdown",
   "id": "0909010b",
   "metadata": {},
   "source": [
    "Adding Long Term Memory"
   ]
  },
  {
   "cell_type": "code",
   "execution_count": 21,
   "id": "a059eda5",
   "metadata": {},
   "outputs": [],
   "source": [
    "from pydantic import BaseModel, Field\n",
    "from typing import List, Optional\n",
    "\n",
    "class StudentProfile(BaseModel):\n",
    "    \"\"\"A profile for a student user to personalize interactions.\"\"\"\n",
    "    user_name: Optional[str] = Field(\n",
    "        description=\"The student's name, if they mention it.\",\n",
    "        default=None\n",
    "    )\n",
    "    grade_or_class: Optional[str] = Field(\n",
    "        description=\"The student's academic grade or class (e.g., 'Class 10', 'HSC Candidate').\",\n",
    "        default=None\n",
    "    )\n",
    "    topics_of_interest: List[str] = Field(\n",
    "        description=\"A list of subjects or specific topics the student has asked about (e.g., 'কবিতা', 'অপরিচিতা', 'ব্যাকরণ').\",\n",
    "        default_factory=list\n",
    "    )\n",
    "    last_topic_discussed: Optional[str] = Field(\n",
    "        description=\"The main topic of the last question asked by the user to maintain context.\",\n",
    "        default=None\n",
    "    )\n",
    "\n",
    "from trustcall import create_extractor\n",
    "\n",
    "memory_extractor = create_extractor(\n",
    "    llm,\n",
    "    tools=[StudentProfile],\n",
    "    tool_choice=\"StudentProfile\",\n",
    ")\n",
    "\n",
    "from typing import TypedDict, Sequence, Annotated\n",
    "from langchain_core.messages import BaseMessage\n",
    "import operator\n",
    "\n",
    "class GraphState(TypedDict):\n",
    "    \"\"\"\n",
    "    Represents the state of our graph.\n",
    "\n",
    "    Attributes:\n",
    "        messages: The history of messages in the current conversation.\n",
    "        docs: The documents retrieved from the vector store for the current question.\n",
    "    \"\"\"\n",
    "    messages: Annotated[Sequence[BaseMessage], operator.add]\n",
    "    docs: list\n",
    "\n",
    "from langchain_core.runnables import RunnablePassthrough\n",
    "from langchain.prompts import PromptTemplate\n",
    "from langchain_core.output_parsers import StrOutputParser\n",
    "from langchain_core.messages import SystemMessage, AIMessage, HumanMessage\n",
    "from langgraph.store.base import BaseStore\n",
    "from langgraph.checkpoint.memory import MemorySaver\n",
    "\n",
    "# --- Node 1: Retrieve Documents ---\n",
    "def retrieve_node(state: GraphState):\n",
    "    \"\"\"\n",
    "    Retrieves documents from the vector store based on the latest user question.\n",
    "    \"\"\"\n",
    "    print(\"---NODE: RETRIEVE DOCUMENTS---\")\n",
    "    last_message = state[\"messages\"][-1]\n",
    "    question = last_message.content\n",
    "    \n",
    "    # Use the retriever we defined earlier\n",
    "    retrieved_docs = retriever.invoke(question)\n",
    "    print(f\"Retrieved {len(retrieved_docs)} docs.\")\n",
    "    \n",
    "    return {\"docs\": retrieved_docs}\n",
    "\n",
    "# --- Node 2: Generate Response using RAG and Memory ---\n",
    "def generate_node(state: GraphState, config: dict, store: BaseStore):\n",
    "    \"\"\"\n",
    "    Generates a response using the LLM, taking into account the retrieved docs,\n",
    "    the conversation history, and the user's long-term memory.\n",
    "    \"\"\"\n",
    "    print(\"---NODE: GENERATE RESPONSE---\")\n",
    "    \n",
    "    # Get the latest question\n",
    "    question = state[\"messages\"][-1].content\n",
    "    docs = state[\"docs\"]\n",
    "    \n",
    "    # Get user_id from the config to load long-term memory\n",
    "    user_id = config[\"configurable\"][\"user_id\"]\n",
    "    namespace = (\"memory\", user_id)\n",
    "    \n",
    "    # Try to load existing student profile\n",
    "    existing_memory = store.get(namespace, \"student_profile\")\n",
    "    \n",
    "    # Format the memories for the prompt\n",
    "    if existing_memory and existing_memory.value:\n",
    "        memory_dict = existing_memory.value\n",
    "        formatted_memory = (\n",
    "            f\"ছাত্রের নাম: {memory_dict.get('user_name', 'অজানা')}\\n\"\n",
    "            f\"ছাত্রের শ্রেণি: {memory_dict.get('grade_or_class', 'অজানা')}\\n\"\n",
    "            f\"আগ্রহের বিষয়: {', '.join(memory_dict.get('topics_of_interest', ['কিছুই না']))}\"\n",
    "        )\n",
    "    else:\n",
    "        formatted_memory = \"এই ছাত্রের জন্য কোনো স্মৃতি এখনো জমা হয়নি।\"\n",
    "        \n",
    "    print(f\"Loaded Memory: {formatted_memory}\")\n",
    "\n",
    "    # New prompt that incorporates long-term memory\n",
    "    rag_with_memory_prompt = PromptTemplate(\n",
    "        template=(\n",
    "            \"তুমি একজন সহায়ক ও ব্যক্তিগত বাংলা শিক্ষক। নিচের প্রশ্নটির উত্তর দেওয়ার জন্য প্রদত্ত প্রাসঙ্গিক তথ্য এবং ছাত্রের সম্পর্কে তোমার স্মৃতি ব্যবহার করো।\\n\\n\"\n",
    "            \"## ছাত্রের স্মৃতি:\\n{memory}\\n\\n\"\n",
    "            \"## প্রাসঙ্গিক তথ্য:\\n{context}\\n\\n\"\n",
    "            \"## প্রশ্ন:\\n{question}\\n\\n\"\n",
    "            \"উত্তর (বাংলায় সংক্ষিপ্ত, ব্যক্তিগত এবং স্পষ্টভাবে দাও):\"\n",
    "        ),\n",
    "        input_variables=[\"question\", \"context\", \"memory\"],\n",
    "    )\n",
    "\n",
    "    # Chain for this node\n",
    "    rag_chain = (\n",
    "        {\n",
    "            \"context\": lambda x: format_docs(x[\"documents\"]),\n",
    "            \"question\": lambda x: x[\"question\"],\n",
    "            \"memory\": lambda x: x[\"memory\"]\n",
    "        }\n",
    "        | rag_with_memory_prompt\n",
    "        | llm\n",
    "        | StrOutputParser()\n",
    "    )\n",
    "    \n",
    "    # Invoke the chain with all necessary info\n",
    "    response = rag_chain.invoke({\n",
    "        \"documents\": docs,\n",
    "        \"question\": question,\n",
    "        \"memory\": formatted_memory\n",
    "    })\n",
    "    \n",
    "    print(f\"Generated Response: {response}\")\n",
    "    \n",
    "    return {\"messages\": [AIMessage(content=response)]}"
   ]
  },
  {
   "cell_type": "code",
   "execution_count": 22,
   "id": "7a4838c0",
   "metadata": {},
   "outputs": [],
   "source": [
    "# --- Node 3: Update Long-Term Memory (CORRECTED) ---\n",
    "def update_memory_node(state: GraphState, config: dict, store: BaseStore):\n",
    "    \"\"\"\n",
    "    Reflects on the most recent exchange and updates the student's profile in the long-term store.\n",
    "    \"\"\"\n",
    "    print(\"---NODE: UPDATE MEMORY---\")\n",
    "    \n",
    "    # Get user_id from the config\n",
    "    user_id = config[\"configurable\"][\"user_id\"]\n",
    "    namespace = (\"memory\", user_id)\n",
    "    \n",
    "    # Load existing memory\n",
    "    existing_memory = store.get(namespace, \"student_profile\")\n",
    "    existing_profile = {\"StudentProfile\": existing_memory.value} if existing_memory else None\n",
    "    \n",
    "    # Instruction for the extractor\n",
    "    extraction_instruction = \"নিচের কথোপকথন থেকে ছাত্রের প্রোফাইল তৈরি বা আপডেট করো:\"\n",
    "    \n",
    "    recent_exchange = state[\"messages\"][-2:]\n",
    "    \n",
    "    # Invoke the extractor with the FOCUSED context\n",
    "    result = memory_extractor.invoke({\n",
    "        \"messages\": [SystemMessage(content=extraction_instruction)] + recent_exchange,\n",
    "        \"existing\": existing_profile\n",
    "    })\n",
    "    \n",
    "    if result.get(\"responses\"):\n",
    "        updated_profile = result[\"responses\"][0].model_dump()\n",
    "        print(f\"Updated Profile: {updated_profile}\")\n",
    "\n",
    "        # Save the updated profile to the long-term store\n",
    "        store.put(namespace, \"student_profile\", updated_profile)\n",
    "    else:\n",
    "        print(\"No new profile information found to update.\")\n",
    "    return"
   ]
  },
  {
   "cell_type": "code",
   "execution_count": 23,
   "id": "4e4d035e",
   "metadata": {},
   "outputs": [
    {
     "data": {
      "image/png": "[encoded data removed]",
      "text/plain": [
       "<IPython.core.display.Image object>"
      ]
     },
     "metadata": {},
     "output_type": "display_data"
    }
   ],
   "source": [
    "## **Building the Graph**\n",
    "from langgraph.graph import StateGraph, START, END\n",
    "from langgraph.store.memory import InMemoryStore\n",
    "from IPython.display import display, Image\n",
    "\n",
    "# The store for long-term (across-thread) memory\n",
    "long_term_store = InMemoryStore()\n",
    "\n",
    "# The checkpointer for short-term (within-thread) memory\n",
    "checkpointer = MemorySaver()\n",
    "\n",
    "# Define the graph\n",
    "builder = StateGraph(GraphState)\n",
    "\n",
    "# Add the nodes\n",
    "builder.add_node(\"retrieve\", retrieve_node)\n",
    "builder.add_node(\"generate\", generate_node)\n",
    "builder.add_node(\"update_memory\", update_memory_node)\n",
    "\n",
    "# Define the edges (the flow)\n",
    "builder.add_edge(START, \"retrieve\")\n",
    "builder.add_edge(\"retrieve\", \"generate\")\n",
    "builder.add_edge(\"generate\", \"update_memory\")\n",
    "builder.add_edge(\"update_memory\", END)\n",
    "\n",
    "# Compile the graph with both memory systems\n",
    "graph = builder.compile(checkpointer=checkpointer, store=long_term_store)\n",
    "\n",
    "# Visualize the graph\n",
    "display(Image(graph.get_graph(xray=1).draw_mermaid_png()))"
   ]
  },
  {
   "cell_type": "code",
   "execution_count": 24,
   "id": "772ab85c",
   "metadata": {},
   "outputs": [
    {
     "name": "stdout",
     "output_type": "stream",
     "text": [
      "\n",
      "--- FIRST INTERACTION (SESSION 1) ---\n",
      "---NODE: RETRIEVE DOCUMENTS---\n",
      "Retrieved 3 docs.\n",
      "---NODE: GENERATE RESPONSE---\n",
      "Loaded Memory: এই ছাত্রের জন্য কোনো স্মৃতি এখনো জমা হয়নি।\n",
      "Generated Response: নাহিদ হাসান, দশম শ্রেণির ছাত্র। তোমার প্রশ্নের জন্য, আমি সাহিত্য বিভাগ থেকে 'অপরিচিতা' গল্পটি সম্পর্কে জ্ঞান ব্যবহার করব। \n",
      "\n",
      "'অপরিচিতা' গল্পে, অনুপমের মামা একটি গুরুত্বপূর্ণ চরিত্র। অনুপমের মামা রায় চৌধুরী ছিলেন একজন কৌলিন্য-অহংকারী, অত্যন্ত গর্বিত মানুষ। সমাজে তাঁর বেশ প্রতিপত্তি ছিল। তিনি লোকসমাজে মিশতে ভালোবাসতেন না। একসময় গ্রামের রাস্তায় এক রিকশাওয়ালাকে তিনি অপমান করেছিলেন। রিকশাওয়ালা তাকে অপমানের জবাব দিয়েছিল। এতে রায় চৌধুরী তার গর্বিত মন নিয়ে বেদনার্দ্র হয়ে পড়েছিলেন। \n",
      "\n",
      "এই চরিত্রটি গল্পে একটি বিশেষ ভূমিকা পালন করেছে। তোমার পাঠ্যপুস্তকের বাইরে সাহিত্য সম্পর্কে আর জানতে চাও?\n",
      "---NODE: UPDATE MEMORY---\n",
      "Updated Profile: {'user_name': 'Nahid Hasan', 'grade_or_class': 'Class10', 'topics_of_interest': ['अपरिचिता'], 'last_topic_discussed': 'অপरिचिता गल्पे अनुपमेर मामार चरित्र'}\n",
      "\n",
      "Final Answer: নাহিদ হাসান, দশম শ্রেণির ছাত্র। তোমার প্রশ্নের জন্য, আমি সাহিত্য বিভাগ থেকে 'অপরিচিতা' গল্পটি সম্পর্কে জ্ঞান ব্যবহার করব। \n",
      "\n",
      "'অপরিচিতা' গল্পে, অনুপমের মামা একটি গুরুত্বপূর্ণ চরিত্র। অনুপমের মামা রায় চৌধুরী ছিলেন একজন কৌলিন্য-অহংকারী, অত্যন্ত গর্বিত মানুষ। সমাজে তাঁর বেশ প্রতিপত্তি ছিল। তিনি লোকসমাজে মিশতে ভালোবাসতেন না। একসময় গ্রামের রাস্তায় এক রিকশাওয়ালাকে তিনি অপমান করেছিলেন। রিকশাওয়ালা তাকে অপমানের জবাব দিয়েছিল। এতে রায় চৌধুরী তার গর্বিত মন নিয়ে বেদনার্দ্র হয়ে পড়েছিলেন। \n",
      "\n",
      "এই চরিত্রটি গল্পে একটি বিশেষ ভূমিকা পালন করেছে। তোমার পাঠ্যপুস্তকের বাইরে সাহিত্য সম্পর্কে আর জানতে চাও?\n"
     ]
    }
   ],
   "source": [
    "config_user_1 = {\n",
    "    \"configurable\": {\n",
    "        \"user_id\": \"student_nahid\",\n",
    "        \"thread_id\": \"chat_session_1\" \n",
    "    }\n",
    "}\n",
    "\n",
    "# --- First Interaction ---\n",
    "print(\"\\n--- FIRST INTERACTION (SESSION 1) ---\")\n",
    "question1 = \"আমার নাম Nahid Hasan, আমি দশম শ্রেণিতে পড়ি। 'অপরিচিতা' গল্পে অনুপমের মামার চরিত্রটি কেমন?\"\n",
    "\n",
    "response = graph.invoke(\n",
    "    {\"messages\": [HumanMessage(content=question1)]},\n",
    "    config=config_user_1\n",
    ")\n",
    "\n",
    "print(\"\\nFinal Answer:\", response['messages'][-1].content)"
   ]
  },
  {
   "cell_type": "code",
   "execution_count": 25,
   "id": "053f4410",
   "metadata": {},
   "outputs": [
    {
     "name": "stdout",
     "output_type": "stream",
     "text": [
      "---NODE: RETRIEVE DOCUMENTS---\n",
      "Retrieved 3 docs.\n",
      "---NODE: GENERATE RESPONSE---\n",
      "Loaded Memory: ছাত্রের নাম: Nahid Hasan\n",
      "ছাত্রের শ্রেণি: Class10\n",
      "আগ্রহের বিষয়: अपरिचिता\n",
      "Generated Response: Nahid Hasan, তোমার প্রশ্নের উত্তর হলো: \n",
      "\n",
      "সুপুরুষ: যে পুরুষের চেহারা ও গুণাবলি অনুপম তাকে সুপুরুষ বলা হয়।\n",
      "\n",
      "উদाहरण: রাষ্ট্রপতি নেলসন ম্যান্ডেলা সুপুরুষ ছিলেন।\n",
      "---NODE: UPDATE MEMORY---\n",
      "Updated Profile: {'user_name': 'Nahid Hasan', 'grade_or_class': 'Class10', 'topics_of_interest': ['अपरिचिता'], 'last_topic_discussed': 'অনুপমের ভাষায় সুপুরুষ'}\n",
      "\n",
      "Final Answer: Nahid Hasan, তোমার প্রশ্নের উত্তর হলো: \n",
      "\n",
      "সুপুরুষ: যে পুরুষের চেহারা ও গুণাবলি অনুপম তাকে সুপুরুষ বলা হয়।\n",
      "\n",
      "উদाहरण: রাষ্ট্রপতি নেলসন ম্যান্ডেলা সুপুরুষ ছিলেন।\n"
     ]
    }
   ],
   "source": [
    "question1 = \"অনুপমের ভাষায় সুপুরুষ কাকে বলা হয়েছে?\"\n",
    "\n",
    "response = graph.invoke(\n",
    "    {\"messages\": [HumanMessage(content=question1)]},\n",
    "    config=config_user_1\n",
    ")\n",
    "\n",
    "print(\"\\nFinal Answer:\", response['messages'][-1].content)"
   ]
  },
  {
   "cell_type": "code",
   "execution_count": 27,
   "id": "e1954030",
   "metadata": {},
   "outputs": [
    {
     "name": "stdout",
     "output_type": "stream",
     "text": [
      "\n",
      "\n",
      "--- SECOND INTERACTION (NEW SESSION) ---\n"
     ]
    },
    {
     "name": "stdout",
     "output_type": "stream",
     "text": [
      "---NODE: RETRIEVE DOCUMENTS---\n",
      "Retrieved 3 docs.\n",
      "---NODE: GENERATE RESPONSE---\n",
      "Loaded Memory: এই ছাত্রের জন্য কোনো স্মৃতি এখনো জমা হয়নি।\n",
      "Generated Response: আগে আপনি কোনো প্রশ্ন করেননি।\n",
      "\n",
      "উপরের প্রসঙ্গ থেকে বোঝা যাচ্ছে যে, অনুপমের ভাগ্য দেবতা কে তা উল্লেখ করা হয়নি। তবে, প্রাসঙ্গিক তথ্যাংশে বর্ণিত ঘটনাটি নেলসন ম্যান্ডেলার আত্মজীবনী ‘লং ওয়াক টু ফ্রিডম’ থেকে নেওয়া হয়েছে। এখানে তিনি তার উদ্বোধনী অনুষ্ঠান সম্পর্কে আলোচনা করেছেন। আর এই অনুষ্ঠানে তিনি তার দুই জাতীয় সঙ্গীত গাওয়ার কথা উল্লেখ করেছেন। এখানে কোনো ভাগ্য দেবতার উল্লেখ নেই।\n",
      "\n",
      "তাই উত্তরটি হবে: বলা যায়, এখানে অনুপমের ভাগ্য দেবতা কে তা উল্লেখ করা হয়নি।\n",
      "---NODE: UPDATE MEMORY---\n",
      "Updated Profile: {'user_name': None, 'grade_or_class': None, 'topics_of_interest': [], 'last_topic_discussed': None}\n",
      "\n",
      "Final Answer: আগে আপনি কোনো প্রশ্ন করেননি।\n",
      "\n",
      "উপরের প্রসঙ্গ থেকে বোঝা যাচ্ছে যে, অনুপমের ভাগ্য দেবতা কে তা উল্লেখ করা হয়নি। তবে, প্রাসঙ্গিক তথ্যাংশে বর্ণিত ঘটনাটি নেলসন ম্যান্ডেলার আত্মজীবনী ‘লং ওয়াক টু ফ্রিডম’ থেকে নেওয়া হয়েছে। এখানে তিনি তার উদ্বোধনী অনুষ্ঠান সম্পর্কে আলোচনা করেছেন। আর এই অনুষ্ঠানে তিনি তার দুই জাতীয় সঙ্গীত গাওয়ার কথা উল্লেখ করেছেন। এখানে কোনো ভাগ্য দেবতার উল্লেখ নেই।\n",
      "\n",
      "তাই উত্তরটি হবে: বলা যায়, এখানে অনুপমের ভাগ্য দেবতা কে তা উল্লেখ করা হয়নি।\n",
      "\n",
      "--- CHECKING LONG-TERM MEMORY (AFTER 2nd INTERACTION) ---\n",
      "{'user_name': None, 'grade_or_class': None, 'topics_of_interest': [], 'last_topic_discussed': None}\n"
     ]
    }
   ],
   "source": [
    "print(\"\\n\\n--- SECOND INTERACTION (NEW SESSION) ---\")\n",
    "\n",
    "# Note: We use a *new thread_id* but the *same user_id*\n",
    "config_user_1_new_session = {\n",
    "    \"configurable\": {\n",
    "        \"user_id\": \"student_nimat\",\n",
    "        \"thread_id\": \"chat_session_2\" # New session\n",
    "    }\n",
    "}\n",
    "\n",
    "question2 = \"আমি আগে কোন বিষয় নিয়ে প্রশ্ন করেছিলাম? এখন bolo কাকে অনুপমের ভাগ্য দেবতা বলে উল্লেখ করা হয়েছে\"\n",
    "\n",
    "response2 = graph.invoke(\n",
    "    {\"messages\": [HumanMessage(content=question2)]},\n",
    "    config=config_user_1_new_session\n",
    ")\n",
    "\n",
    "print(\"\\nFinal Answer:\", response2['messages'][-1].content)\n",
    "\n",
    "# Check the long-term memory again to see it updated\n",
    "print(\"\\n--- CHECKING LONG-TERM MEMORY (AFTER 2nd INTERACTION) ---\")\n",
    "nimat_profile_updated = long_term_store.get((\"memory\", \"student_nimat\"), \"student_profile\")\n",
    "print(nimat_profile_updated.value)"
   ]
  },
  {
   "cell_type": "code",
   "execution_count": 28,
   "id": "10e754e1",
   "metadata": {},
   "outputs": [
    {
     "name": "stdout",
     "output_type": "stream",
     "text": [
      "\n",
      "Final Answer: আগে আপনি কোনো প্রশ্ন করেননি।\n",
      "\n",
      "উপরের প্রসঙ্গ থেকে বোঝা যাচ্ছে যে, অনুপমের ভাগ্য দেবতা কে তা উল্লেখ করা হয়নি। তবে, প্রাসঙ্গিক তথ্যাংশে বর্ণিত ঘটনাটি নেলসন ম্যান্ডেলার আত্মজীবনী ‘লং ওয়াক টু ফ্রিডম’ থেকে নেওয়া হয়েছে। এখানে তিনি তার উদ্বোধনী অনুষ্ঠান সম্পর্কে আলোচনা করেছেন। আর এই অনুষ্ঠানে তিনি তার দুই জাতীয় সঙ্গীত গাওয়ার কথা উল্লেখ করেছেন। এখানে কোনো ভাগ্য দেবতার উল্লেখ নেই।\n",
      "\n",
      "তাই উত্তরটি হবে: বলা যায়, এখানে অনুপমের ভাগ্য দেবতা কে তা উল্লেখ করা হয়নি।\n"
     ]
    }
   ],
   "source": [
    "print(\"\\nFinal Answer:\", response2['messages'][-1].content)"
   ]
  },
  {
   "cell_type": "code",
   "execution_count": null,
   "id": "f5dfbcaf",
   "metadata": {},
   "outputs": [],
   "source": []
  }
 ],
 "metadata": {
  "kernelspec": {
   "display_name": ".venv",
   "language": "python",
   "name": "python3"
  },
  "language_info": {
   "codemirror_mode": {
    "name": "ipython",
    "version": 3
   },
   "file_extension": ".py",
   "mimetype": "text/x-python",
   "name": "python",
   "nbconvert_exporter": "python",
   "pygments_lexer": "ipython3",
   "version": "3.11.4"
  }
 },
 "nbformat": 4,
 "nbformat_minor": 5
}
