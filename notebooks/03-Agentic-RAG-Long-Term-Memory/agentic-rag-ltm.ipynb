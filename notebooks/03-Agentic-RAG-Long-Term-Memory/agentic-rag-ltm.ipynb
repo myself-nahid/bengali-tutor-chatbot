{
 "cells": [
  {
   "cell_type": "code",
   "execution_count": 1,
   "id": "94cf74d5",
   "metadata": {},
   "outputs": [],
   "source": [
    "import warnings\n",
    "warnings.filterwarnings(\"ignore\")"
   ]
  },
  {
   "cell_type": "code",
   "execution_count": 2,
   "id": "f965e005",
   "metadata": {},
   "outputs": [],
   "source": [
    "import os\n",
    "from dotenv import load_dotenv\n",
    "from langchain_groq import ChatGroq\n",
    "load_dotenv()\n",
    "from pinecone import Pinecone\n",
    "from langchain_huggingface import HuggingFaceEmbeddings\n",
    "import os"
   ]
  },
  {
   "cell_type": "code",
   "execution_count": 4,
   "id": "c499ad09",
   "metadata": {},
   "outputs": [],
   "source": [
    "LANGCHAIN_API_KEY = os.getenv(\"LANGCHAIN_API_KEY\")\n",
    "os.environ[\"LANGCHAIN_TRACING_V2\"] = \"true\"\n",
    "os.environ[\"LANGCHAIN_PROJECT\"] = \"Bangla RAG Agent\""
   ]
  },
  {
   "cell_type": "code",
   "execution_count": 5,
   "id": "ea10fa44",
   "metadata": {},
   "outputs": [],
   "source": [
    "os.environ[\"GROQ_API_KEY\"] = os.getenv(\"GROQ_API_KEY\")\n",
    "os.environ[\"HF_TOKEN\"] = os.getenv(\"HF_TOKEN\")\n",
    "os.environ[\"PINECONE_API_KEY\"] = os.getenv(\"PINECONE_API_KEY\")\n",
    "\n",
    "pinecone_api_key = os.getenv(\"PINECONE_API_KEY\")"
   ]
  },
  {
   "cell_type": "code",
   "execution_count": 6,
   "id": "fb89941d",
   "metadata": {},
   "outputs": [
    {
     "data": {
      "text/plain": [
       "<pinecone.db_data.index.Index at 0x1aa0cc2af10>"
      ]
     },
     "execution_count": 6,
     "metadata": {},
     "output_type": "execute_result"
    }
   ],
   "source": [
    "pc = Pinecone(api_key=pinecone_api_key)\n",
    "index_name = \"10ms-db-bangla-book\"\n",
    "\n",
    "index = pc.Index(index_name)\n",
    "index"
   ]
  },
  {
   "cell_type": "code",
   "execution_count": 7,
   "id": "cb954692",
   "metadata": {},
   "outputs": [],
   "source": [
    "embeddings = HuggingFaceEmbeddings(model_name=\"sentence-transformers/all-mpnet-base-v2\")"
   ]
  },
  {
   "cell_type": "code",
   "execution_count": 8,
   "id": "21004502",
   "metadata": {},
   "outputs": [
    {
     "data": {
      "text/plain": [
       "<langchain_pinecone.vectorstores.PineconeVectorStore at 0x1aa22c78290>"
      ]
     },
     "execution_count": 8,
     "metadata": {},
     "output_type": "execute_result"
    }
   ],
   "source": [
    "from langchain_pinecone import PineconeVectorStore\n",
    "\n",
    "vector_store = PineconeVectorStore(index=index, embedding=embeddings)\n",
    "vector_store"
   ]
  },
  {
   "cell_type": "code",
   "execution_count": 9,
   "id": "f77097d9",
   "metadata": {},
   "outputs": [],
   "source": [
    "retriever = vector_store.as_retriever(\n",
    "    search_type = \"similarity\",\n",
    "    search_kwargs={\n",
    "        \"k\": 3\n",
    "    }\n",
    ")"
   ]
  },
  {
   "cell_type": "code",
   "execution_count": 10,
   "id": "1c0a55ea",
   "metadata": {},
   "outputs": [],
   "source": [
    "from langchain_groq import ChatGroq\n",
    "\n",
    "llm = ChatGroq(\n",
    "    model=os.getenv(\"LLAMA_MODEL\")\n",
    ")"
   ]
  },
  {
   "cell_type": "markdown",
   "id": "55dd46ab",
   "metadata": {},
   "source": [
    "Rag Prompt"
   ]
  },
  {
   "cell_type": "markdown",
   "id": "79dd8a10",
   "metadata": {},
   "source": [
    "Adding LTM"
   ]
  },
  {
   "cell_type": "code",
   "execution_count": 11,
   "id": "45ac37c3",
   "metadata": {},
   "outputs": [],
   "source": [
    "from pydantic import BaseModel, Field\n",
    "from typing import List, Optional\n",
    "\n",
    "class StudentProfile(BaseModel):\n",
    "    \"\"\"A profile for a student user to personalize interactions.\"\"\"\n",
    "    user_name: Optional[str] = Field(\n",
    "        description=\"The student's name, if they mention it.\",\n",
    "        default=None\n",
    "    )\n",
    "    grade_or_class: Optional[str] = Field(\n",
    "        description=\"The student's academic grade or class (e.g., 'Class 10', 'HSC Candidate').\",\n",
    "        default=None\n",
    "    )\n",
    "    topics_of_interest: List[str] = Field(\n",
    "        description=\"A list of subjects or specific topics the student has asked about (e.g., 'কবিতা', 'অপরিচিতা', 'ব্যাকরণ').\",\n",
    "        default_factory=list\n",
    "    )\n",
    "    last_topic_discussed: Optional[str] = Field(\n",
    "        description=\"The main topic of the last question asked by the user to maintain context.\",\n",
    "        default=None\n",
    "    )"
   ]
  },
  {
   "cell_type": "markdown",
   "id": "ebf08fd3",
   "metadata": {},
   "source": [
    "Defining the Graph State"
   ]
  },
  {
   "cell_type": "code",
   "execution_count": 12,
   "id": "baf68af9",
   "metadata": {},
   "outputs": [],
   "source": [
    "from typing import TypedDict, Sequence, Annotated, Literal\n",
    "from langchain_core.messages import BaseMessage\n",
    "import operator\n",
    "\n",
    "class GraphState(TypedDict):\n",
    "    \"\"\"\n",
    "    Represents the state of our graph.\n",
    "\n",
    "    Attributes:\n",
    "        messages: The history of messages in the current conversation.\n",
    "        docs: The documents retrieved from the vector store for the current question.\n",
    "    \"\"\"\n",
    "    messages: Annotated[Sequence[BaseMessage], operator.add]\n",
    "    docs: list\n",
    "    grade: Literal['yes', 'no']\n",
    "    src_docs: str"
   ]
  },
  {
   "cell_type": "markdown",
   "id": "b6206e81",
   "metadata": {},
   "source": [
    "Setting up the Memory Extactor"
   ]
  },
  {
   "cell_type": "code",
   "execution_count": 13,
   "id": "671638ee",
   "metadata": {},
   "outputs": [],
   "source": [
    "from trustcall import create_extractor\n",
    "\n",
    "memory_extractor = create_extractor(\n",
    "    llm,\n",
    "    tools=[StudentProfile],\n",
    "    tool_choice=\"StudentProfile\",\n",
    ")"
   ]
  },
  {
   "cell_type": "markdown",
   "id": "a0adf1be",
   "metadata": {},
   "source": [
    "Defining the Graph Nodes"
   ]
  },
  {
   "cell_type": "code",
   "execution_count": 14,
   "id": "a93955e7",
   "metadata": {},
   "outputs": [],
   "source": [
    "from langchain_core.runnables import RunnablePassthrough\n",
    "from langchain.prompts import PromptTemplate\n",
    "from langchain_core.output_parsers import StrOutputParser\n",
    "from langchain_core.messages import SystemMessage, AIMessage, HumanMessage\n",
    "from langgraph.store.base import BaseStore\n",
    "from langgraph.checkpoint.memory import MemorySaver\n",
    "\n",
    "# --- Node 1: Retrieve Documents ---\n",
    "def retrieve_node(state: GraphState):\n",
    "    \"\"\"\n",
    "    Retrieves documents from the vector store based on the latest user question.\n",
    "    \"\"\"\n",
    "    print(\"---NODE: RETRIEVE DOCUMENTS---\")\n",
    "    last_message = state[\"messages\"][-1]\n",
    "    question = last_message.content\n",
    "    \n",
    "    # Use the retriever we defined earlier\n",
    "    retrieved_docs = retriever.invoke(question)\n",
    "    print(f\"Retrieved {len(retrieved_docs)} docs.\")\n",
    "    \n",
    "    return {\"docs\": retrieved_docs}"
   ]
  },
  {
   "cell_type": "markdown",
   "id": "c391e655",
   "metadata": {},
   "source": [
    "Grade Docs"
   ]
  },
  {
   "cell_type": "code",
   "execution_count": 15,
   "id": "8cdd1cbd",
   "metadata": {},
   "outputs": [],
   "source": [
    "from typing import Literal\n",
    "class Grade(BaseModel):\n",
    "    \"\"\"This is produce binary output based on the document if relevant then sya yes otherwise say no.\"\"\"\n",
    "    binary_output: Literal[\"yes\", \"no\"] = Field(description=\"if the document is relevant to the query then say yes otherwise say no\")"
   ]
  },
  {
   "cell_type": "code",
   "execution_count": 16,
   "id": "f7fd961b",
   "metadata": {},
   "outputs": [],
   "source": [
    "from langchain_core.messages import HumanMessage, SystemMessage\n",
    "\n",
    "def grade_document(state: GraphState) ->Literal[\"yes\", \"no\"]:\n",
    "    \"\"\"This function is response for the grade the document like retrieve document is relevant to the question or not.\"\"\"\n",
    "\n",
    "    last_message = state[\"messages\"][-1]\n",
    "    question = last_message.content\n",
    "    \n",
    "    context = state[\"docs\"]\n",
    "    \n",
    "    system_msg = f\"\"\"Your task is to check where the retrieve context is relevant with the question or not like using this context is possible to answer or not. if relevant then just say 'yes' otherwise say no\n",
    "                    this question is: {question} \\n\n",
    "                    this context is: \\n\\n\n",
    "                    {context} \\n\\n\n",
    "                    carefully analysis the context and question and produced the output based on the schema.\n",
    "                    \"\"\"\n",
    "    llm_with_str_op = llm.with_structured_output(Grade)\n",
    "    \n",
    "    response = llm_with_str_op.invoke([SystemMessage(content=system_msg)])\n",
    "    print(response.binary_output)\n",
    "    return {\n",
    "        \"grade\": response.binary_output\n",
    "    }"
   ]
  },
  {
   "cell_type": "code",
   "execution_count": 17,
   "id": "ade51d93",
   "metadata": {},
   "outputs": [],
   "source": [
    "def route_node(state: GraphState):\n",
    "    print(\"reoute node\")\n",
    "    \"\"\"This function is responsible for the route the node where transform query of generate the response\"\"\"\n",
    "    \n",
    "    if state['grade'] == 'yes':\n",
    "        print(\"the query is relevant.\")\n",
    "        return \"relevant_docs\"\n",
    "    else:\n",
    "        print(\"This query is not relevant. go to web call\")\n",
    "        return \"not_relevant_docs\""
   ]
  },
  {
   "cell_type": "markdown",
   "id": "c9513ef3",
   "metadata": {},
   "source": [
    "Web Search"
   ]
  },
  {
   "cell_type": "code",
   "execution_count": 18,
   "id": "bc1009e4",
   "metadata": {},
   "outputs": [],
   "source": [
    "from langchain_community.utilities import GoogleSerperAPIWrapper\n",
    "\n",
    "os.environ[\"SERPER_API_KEY\"] = os.getenv(\"SERPER_API_KEY\")\n",
    "search = GoogleSerperAPIWrapper()\n",
    "\n",
    "\n",
    "def search_on_web(state: GraphState):\n",
    "    print(\"---web search start---\")\n",
    "    last_message = state[\"messages\"][-1]\n",
    "    question = last_message.content\n",
    "    \n",
    "    src_result = search.run(question)\n",
    "    \n",
    "    print(\"---web search end---\")\n",
    "    src_result = str(src_result)\n",
    "    \n",
    "    return {\n",
    "        \"src_docs\": src_result\n",
    "    }"
   ]
  },
  {
   "cell_type": "markdown",
   "id": "42d7eced",
   "metadata": {},
   "source": [
    "Node 2: Generate Response using RAG and Memory"
   ]
  },
  {
   "cell_type": "code",
   "execution_count": 19,
   "id": "c770201e",
   "metadata": {},
   "outputs": [],
   "source": [
    "def format_docs(retriever_docs):\n",
    "    context_text = \"\\n\\n\".join(doc.page_content for doc in retriever_docs)\n",
    "    return context_text"
   ]
  },
  {
   "cell_type": "code",
   "execution_count": 20,
   "id": "e9f00e39",
   "metadata": {},
   "outputs": [],
   "source": [
    "def generate_node(state: GraphState, config: dict, store: BaseStore):\n",
    "    \"\"\"\n",
    "    Generates a response using the LLM, taking into account the retrieved docs,\n",
    "    the conversation history, and the user's long-term memory.\n",
    "    It handles context from either the retriever OR a web search.\n",
    "    \"\"\"\n",
    "    print(\"---NODE: GENERATE RESPONSE---\")\n",
    "    \n",
    "    # Get the latest question\n",
    "    question = state[\"messages\"][-1].content\n",
    "    \n",
    "    context_source = \"\"\n",
    "    if state.get(\"src_docs\"):\n",
    "        print(\"--- Using context from Web Search ---\")\n",
    "        # Web search provides a single string\n",
    "        context_source = state[\"src_docs\"]\n",
    "    else:\n",
    "        print(\"--- Using context from Retriever ---\")\n",
    "        context_source = format_docs(state[\"docs\"])\n",
    "\n",
    "    # Get user_id from the config to load long-term memory\n",
    "    user_id = config[\"configurable\"][\"user_id\"]\n",
    "    namespace = (\"memory\", user_id)\n",
    "    \n",
    "    # Try to load existing student profile\n",
    "    existing_memory = store.get(namespace, \"student_profile\")\n",
    "    \n",
    "    # Format the memories for the prompt\n",
    "    if existing_memory and existing_memory.value:\n",
    "        memory_dict = existing_memory.value\n",
    "        formatted_memory = (\n",
    "            f\"ছাত্রের নাম: {memory_dict.get('user_name', 'অজানা')}\\n\"\n",
    "            f\"ছাত্রের শ্রেণি: {memory_dict.get('grade_or_class', 'অজানা')}\\n\"\n",
    "            f\"আগ্রহের বিষয়: {', '.join(memory_dict.get('topics_of_interest', ['কিছুই না']))}\"\n",
    "        )\n",
    "    else:\n",
    "        formatted_memory = \"এই ছাত্রের জন্য কোনো স্মৃতি এখনো জমা হয়নি।\"\n",
    "        \n",
    "    print(f\"Loaded Memory: {formatted_memory}\")\n",
    "\n",
    "    # New prompt that incorporates long-term memory\n",
    "    rag_with_memory_prompt = PromptTemplate(\n",
    "        template=(\n",
    "            \"তুমি একজন সহায়ক ও ব্যক্তিগত বাংলা শিক্ষক। নিচের প্রশ্নটির উত্তর দেওয়ার জন্য প্রদত্ত প্রাসঙ্গিক তথ্য এবং ছাত্রের সম্পর্কে তোমার স্মৃতি ব্যবহার করো।\\n\\n\"\n",
    "            \"## ছাত্রের স্মৃতি:\\n{memory}\\n\\n\"\n",
    "            \"## প্রাসঙ্গিক তথ্য:\\n{context}\\n\\n\"\n",
    "            \"## প্রশ্ন:\\n{question}\\n\\n\"\n",
    "            \"উত্তর (বাংলায় সংক্ষিপ্ত, ব্যক্তিগত এবং স্পষ্টভাবে দাও):\"\n",
    "        ),\n",
    "        input_variables=[\"question\", \"context\", \"memory\"],\n",
    "    )\n",
    "\n",
    "    # Simplified chain for this node\n",
    "    rag_chain = (\n",
    "        rag_with_memory_prompt\n",
    "        | llm\n",
    "        | StrOutputParser()\n",
    "    )\n",
    "    \n",
    "    response = rag_chain.invoke({\n",
    "        \"context\": context_source,\n",
    "        \"question\": question,\n",
    "        \"memory\": formatted_memory\n",
    "    })\n",
    "    \n",
    "    print(f\"Generated Response: {response}\")\n",
    "    \n",
    "    return {\"messages\": [AIMessage(content=response)]}"
   ]
  },
  {
   "cell_type": "markdown",
   "id": "e71ab13d",
   "metadata": {},
   "source": [
    "Node 3: Update Long-Term Memory (corrected)"
   ]
  },
  {
   "cell_type": "code",
   "execution_count": 21,
   "id": "b286a8e6",
   "metadata": {},
   "outputs": [],
   "source": [
    "\n",
    "def update_memory_node(state: GraphState, config: dict, store: BaseStore):\n",
    "    \"\"\"\n",
    "    Reflects on the most recent exchange and updates the student's profile in the long-term store.\n",
    "    \"\"\"\n",
    "    print(\"---NODE: UPDATE MEMORY---\")\n",
    "    \n",
    "    # Get user_id from the config\n",
    "    user_id = config[\"configurable\"][\"user_id\"]\n",
    "    namespace = (\"memory\", user_id)\n",
    "    \n",
    "    # Load existing memory\n",
    "    existing_memory = store.get(namespace, \"student_profile\")\n",
    "    existing_profile = {\"StudentProfile\": existing_memory.value} if existing_memory else None\n",
    "    \n",
    "    # Instruction for the extractor\n",
    "    extraction_instruction = \"নিচের কথোপকথন থেকে ছাত্রের প্রোফাইল তৈরি বা আপডেট করো:\"\n",
    "    \n",
    "    recent_exchange = state[\"messages\"][-2:]\n",
    "    \n",
    "    # Invoke the extractor with the FOCUSED context\n",
    "    result = memory_extractor.invoke({\n",
    "        \"messages\": [SystemMessage(content=extraction_instruction)] + recent_exchange,\n",
    "        \"existing\": existing_profile\n",
    "    })\n",
    "    \n",
    "    if result.get(\"responses\"):\n",
    "        updated_profile = result[\"responses\"][0].model_dump()\n",
    "        print(f\"Updated Profile: {updated_profile}\")\n",
    "\n",
    "        # Save the updated profile to the long-term store\n",
    "        store.put(namespace, \"student_profile\", updated_profile)\n",
    "    else:\n",
    "        print(\"No new profile information found to update.\")\n",
    "    return"
   ]
  },
  {
   "cell_type": "code",
   "execution_count": 22,
   "id": "cd1f931d",
   "metadata": {},
   "outputs": [
    {
     "data": {
      "image/png": "[encoded data removed]",
      "text/plain": [
       "<IPython.core.display.Image object>"
      ]
     },
     "metadata": {},
     "output_type": "display_data"
    }
   ],
   "source": [
    "## **Building the Graph**\n",
    "from langgraph.graph import StateGraph, START, END\n",
    "from langgraph.store.memory import InMemoryStore\n",
    "from IPython.display import display, Image\n",
    "\n",
    "# The store for long-term (across-thread) memory\n",
    "long_term_store = InMemoryStore()\n",
    "\n",
    "# The checkpointer for short-term (within-thread) memory\n",
    "checkpointer = MemorySaver()\n",
    "\n",
    "# Define the graph\n",
    "builder = StateGraph(GraphState)\n",
    "\n",
    "# Add the nodes\n",
    "builder.add_node(\"retrieve\", retrieve_node)\n",
    "builder.add_node(\"grade_docs\", grade_document)\n",
    "builder.add_node(\"web_call\", search_on_web)\n",
    "builder.add_node(\"generate\", generate_node)\n",
    "builder.add_node(\"update_memory\", update_memory_node)\n",
    "\n",
    "# Define the edges (the flow)\n",
    "builder.add_edge(START, \"retrieve\")\n",
    "builder.add_edge(\"retrieve\", \"grade_docs\")\n",
    "builder.add_conditional_edges(\n",
    "    \"grade_docs\",\n",
    "    route_node,\n",
    "    {\n",
    "        \"relevant_docs\": \"generate\",\n",
    "        \"not_relevant_docs\": \"web_call\"\n",
    "    }\n",
    ")\n",
    "builder.add_edge(\"web_call\", \"generate\")\n",
    "builder.add_edge(\"generate\", \"update_memory\")\n",
    "builder.add_edge(\"update_memory\", END)\n",
    "\n",
    "# Compile the graph with both memory systems\n",
    "graph = builder.compile(checkpointer=checkpointer, store=long_term_store)\n",
    "\n",
    "# Visualize the graph\n",
    "display(Image(graph.get_graph(xray=1).draw_mermaid_png()))"
   ]
  },
  {
   "cell_type": "code",
   "execution_count": 23,
   "id": "1aa6b7fb",
   "metadata": {},
   "outputs": [
    {
     "name": "stdout",
     "output_type": "stream",
     "text": [
      "\n",
      "--- FIRST INTERACTION (SESSION 1) ---\n",
      "---NODE: RETRIEVE DOCUMENTS---\n",
      "Retrieved 3 docs.\n",
      "no\n",
      "reoute node\n",
      "This query is not relevant. go to web call\n",
      "---web search start---\n",
      "---web search end---\n",
      "---NODE: GENERATE RESPONSE---\n",
      "--- Using context from Web Search ---\n",
      "Loaded Memory: এই ছাত্রের জন্য কোনো স্মৃতি এখনো জমা হয়নি।\n",
      "Generated Response: আমার মনে আছে, 'অপরিচিতা' গল্পে বিয়ের সময় কল্যাণীর বয়স ছিল বারো বছর।\n",
      "---NODE: UPDATE MEMORY---\n",
      "Updated Profile: {'user_name': 'Nahid Hasan', 'grade_or_class': '10', 'topics_of_interest': ['অপৰিচিता'], 'last_topic_discussed': 'অপৰিচিता'}\n",
      "\n",
      "Final Answer: আমার মনে আছে, 'অপরিচিতা' গল্পে বিয়ের সময় কল্যাণীর বয়স ছিল বারো বছর।\n"
     ]
    }
   ],
   "source": [
    "config_user_1 = {\n",
    "    \"configurable\": {\n",
    "        \"user_id\": \"student_Nahid\",\n",
    "        \"thread_id\": \"chat_session_1\" \n",
    "    }\n",
    "}\n",
    "\n",
    "# --- First Interaction ---\n",
    "print(\"\\n--- FIRST INTERACTION (SESSION 1) ---\")\n",
    "question1 = \"আমার নাম Nahid Hasan, আমি দশম শ্রেণিতে পড়ি। 'অপরিচিতা' গল্পে বিয়ের সময় কল্যাণীর প্রকৃত বয়স কত ছিল?\"\n",
    "\n",
    "response = graph.invoke(\n",
    "    {\"messages\": [HumanMessage(content=question1)]},\n",
    "    config=config_user_1\n",
    ")\n",
    "\n",
    "print(\"\\nFinal Answer:\", response['messages'][-1].content)"
   ]
  },
  {
   "cell_type": "code",
   "execution_count": 29,
   "id": "b26344ff",
   "metadata": {},
   "outputs": [
    {
     "name": "stdout",
     "output_type": "stream",
     "text": [
      "\n",
      "\n",
      "--- SECOND INTERACTION (NEW SESSION) ---\n",
      "---NODE: RETRIEVE DOCUMENTS---\n",
      "Retrieved 3 docs.\n",
      "no\n",
      "reoute node\n",
      "This query is not relevant. go to web call\n",
      "---web search start---\n",
      "---web search end---\n",
      "---NODE: GENERATE RESPONSE---\n",
      "--- Using context from Web Search ---\n",
      "Loaded Memory: ছাত্রের নাম: अनुपम\n",
      "ছাত্রের শ্রেণি: None\n",
      "আগ্রহের বিষয়: \n",
      "Generated Response: অনুপমের ভাষায় সুপুরুষ বলতে বোঝানো হয়েছে শম্ভুনাথ সেনকে। \n",
      "\n",
      "'চুল কাঁচা, গোঁফে পাক ধরিতে আরম্ভ করিয়াছে মাত্র। সুপুরুষ বটে।' \n",
      "\n",
      "এখানে 'সুপুরুষ'টি কে সে সম্পর্কে অনুপমের বক্তব্য প্রসঙ্গত উল্লেখযোগ্য। আর সুপুরুষ বলতে এখানে শম্ভুনাথ সেনকেই বোঝানো হয়েছে।\n",
      "---NODE: UPDATE MEMORY---\n"
     ]
    },
    {
     "name": "stderr",
     "output_type": "stream",
     "text": [
      "Could not apply patch: member 'instance' not found in {'user_name': 'अनुपम', 'grade_or_class': None, 'topics_of_interest': [], 'last_topic_discussed': \"What सुपुरुष means in अनुपम's language\"}\n"
     ]
    },
    {
     "name": "stdout",
     "output_type": "stream",
     "text": [
      "No new profile information found to update.\n",
      "\n",
      "Final Answer: অনুপমের ভাষায় সুপুরুষ বলতে বোঝানো হয়েছে শম্ভুনাথ সেনকে। \n",
      "\n",
      "'চুল কাঁচা, গোঁফে পাক ধরিতে আরম্ভ করিয়াছে মাত্র। সুপুরুষ বটে।' \n",
      "\n",
      "এখানে 'সুপুরুষ'টি কে সে সম্পর্কে অনুপমের বক্তব্য প্রসঙ্গত উল্লেখযোগ্য। আর সুপুরুষ বলতে এখানে শম্ভুনাথ সেনকেই বোঝানো হয়েছে।\n",
      "\n",
      "--- CHECKING LONG-TERM MEMORY (AFTER 2nd INTERACTION) ---\n",
      "{'user_name': 'अनुपम', 'grade_or_class': None, 'topics_of_interest': [], 'last_topic_discussed': \"What सुपुरुष means in अनुपम's language\"}\n"
     ]
    }
   ],
   "source": [
    "print(\"\\n\\n--- SECOND INTERACTION (NEW SESSION) ---\")\n",
    "\n",
    "# Note: We use a *new thread_id* but the *same user_id*\n",
    "config_user_1_new_session = {\n",
    "    \"configurable\": {\n",
    "        \"user_id\": \"student_nahid\",\n",
    "        \"thread_id\": \"chat_session_2\" # New session\n",
    "    }\n",
    "}\n",
    "\n",
    "question2 = \"অনুপমের ভাষায় সুপুরুষ কাকে বলা হয়েছে?\"\n",
    "\n",
    "response2 = graph.invoke(\n",
    "    {\"messages\": [HumanMessage(content=question2)]},\n",
    "    config=config_user_1_new_session\n",
    ")\n",
    "\n",
    "print(\"\\nFinal Answer:\", response2['messages'][-1].content)\n",
    "\n",
    "# Check the long-term memory again to see it updated\n",
    "print(\"\\n--- CHECKING LONG-TERM MEMORY (AFTER 2nd INTERACTION) ---\")\n",
    "nahid_profile_updated = long_term_store.get((\"memory\", \"student_nahid\"), \"student_profile\")\n",
    "print(nahid_profile_updated.value)"
   ]
  },
  {
   "cell_type": "code",
   "execution_count": 30,
   "id": "a9ac9443",
   "metadata": {},
   "outputs": [
    {
     "name": "stdout",
     "output_type": "stream",
     "text": [
      "\n",
      "\n",
      "--- Third INTERACTION (NEW SESSION) ---\n",
      "---NODE: RETRIEVE DOCUMENTS---\n",
      "Retrieved 3 docs.\n",
      "no\n",
      "reoute node\n",
      "This query is not relevant. go to web call\n",
      "---web search start---\n",
      "---web search end---\n",
      "---NODE: GENERATE RESPONSE---\n",
      "--- Using context from Web Search ---\n",
      "Loaded Memory: ছাত্রের নাম: अनुपम\n",
      "ছাত্রের শ্রেণি: None\n",
      "আগ্রহের বিষয়: \n",
      "Generated Response: অনুপমের মামাকে তার ভাগ্য দেবতার প্রধান এজেন্ট হিসেবে উল্লেখ করা হয়েছে। কারণ, মামা অনুপমের জীবনে বেশ প্রভাব বিস্তার করেছিলেন।\n",
      "---NODE: UPDATE MEMORY---\n"
     ]
    },
    {
     "name": "stderr",
     "output_type": "stream",
     "text": [
      "Could not apply patch: member 'instance' not found in {'user_name': 'अनुपम', 'grade_or_class': None, 'topics_of_interest': [], 'last_topic_discussed': \"What सुपुरुष means in अनुपम's language\"}\n"
     ]
    },
    {
     "name": "stdout",
     "output_type": "stream",
     "text": [
      "No new profile information found to update.\n",
      "\n",
      "Final Answer: অনুপমের মামাকে তার ভাগ্য দেবতার প্রধান এজেন্ট হিসেবে উল্লেখ করা হয়েছে। কারণ, মামা অনুপমের জীবনে বেশ প্রভাব বিস্তার করেছিলেন।\n",
      "\n",
      "--- CHECKING LONG-TERM MEMORY (AFTER 2nd INTERACTION) ---\n",
      "{'user_name': 'अनुपम', 'grade_or_class': None, 'topics_of_interest': [], 'last_topic_discussed': \"What सुपुरुष means in अनुपम's language\"}\n"
     ]
    }
   ],
   "source": [
    "print(\"\\n\\n--- Third INTERACTION (NEW SESSION) ---\")\n",
    "\n",
    "# Note: We use a *new thread_id* but the *same user_id*\n",
    "config_user_1_new_session = {\n",
    "    \"configurable\": {\n",
    "        \"user_id\": \"student_nahid\",\n",
    "        \"thread_id\": \"chat_session_2\" # New session\n",
    "    }\n",
    "}\n",
    "\n",
    "question2 = \"কাকে অনুপমের ভাগ্য দেবতা বলে উল্লেখ করা হয়েছে?\"\n",
    "\n",
    "response2 = graph.invoke(\n",
    "    {\"messages\": [HumanMessage(content=question2)]},\n",
    "    config=config_user_1_new_session\n",
    ")\n",
    "\n",
    "print(\"\\nFinal Answer:\", response2['messages'][-1].content)\n",
    "\n",
    "# Check the long-term memory again to see it updated\n",
    "print(\"\\n--- CHECKING LONG-TERM MEMORY (AFTER 2nd INTERACTION) ---\")\n",
    "nahid_profile_updated = long_term_store.get((\"memory\", \"student_nahid\"), \"student_profile\")\n",
    "print(nahid_profile_updated.value)"
   ]
  },
  {
   "cell_type": "code",
   "execution_count": null,
   "id": "25682494",
   "metadata": {},
   "outputs": [],
   "source": []
  }
 ],
 "metadata": {
  "kernelspec": {
   "display_name": ".venv",
   "language": "python",
   "name": "python3"
  },
  "language_info": {
   "codemirror_mode": {
    "name": "ipython",
    "version": 3
   },
   "file_extension": ".py",
   "mimetype": "text/x-python",
   "name": "python",
   "nbconvert_exporter": "python",
   "pygments_lexer": "ipython3",
   "version": "3.11.4"
  }
 },
 "nbformat": 4,
 "nbformat_minor": 5
}
