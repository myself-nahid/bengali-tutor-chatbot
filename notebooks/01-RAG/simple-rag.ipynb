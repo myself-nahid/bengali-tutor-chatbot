{
 "cells": [
  {
   "cell_type": "markdown",
   "id": "9ec554e4",
   "metadata": {},
   "source": [
    "## Document Preprocessing"
   ]
  },
  {
   "cell_type": "code",
   "execution_count": 1,
   "id": "2f9c7b03",
   "metadata": {},
   "outputs": [],
   "source": [
    "import warnings\n",
    "warnings.filterwarnings('ignore')"
   ]
  },
  {
   "cell_type": "code",
   "execution_count": 2,
   "id": "9edc3357",
   "metadata": {},
   "outputs": [
    {
     "name": "stdout",
     "output_type": "stream",
     "text": [
      "True\n"
     ]
    }
   ],
   "source": [
    "import os\n",
    "print(os.path.exists(\"books/HSC26-Bangla1st-Paper.pdf\"))"
   ]
  },
  {
   "cell_type": "code",
   "execution_count": 6,
   "id": "633e6f54",
   "metadata": {},
   "outputs": [
    {
     "name": "stdout",
     "output_type": "stream",
     "text": [
      "Successfully loaded 55 pages from the PDF.\n"
     ]
    }
   ],
   "source": [
    "import os\n",
    "from dotenv import load_dotenv\n",
    "from langchain_community.document_loaders import PyPDFLoader\n",
    "from langchain.text_splitter import RecursiveCharacterTextSplitter\n",
    "from langchain_huggingface import HuggingFaceEmbeddings\n",
    "from langchain_pinecone import PineconeVectorStore\n",
    "\n",
    "load_dotenv()\n",
    "\n",
    "PDF_FILE_PATH = \"books/HSC26-Bangla1st-Paper.pdf\"\n",
    "\n",
    "loader = PyPDFLoader(PDF_FILE_PATH)\n",
    "documents = loader.load()\n",
    "\n",
    "print(f\"Successfully loaded {len(documents)} pages from the PDF.\")"
   ]
  },
  {
   "cell_type": "markdown",
   "id": "a3e939d6",
   "metadata": {},
   "source": [
    "Chunking the Documents"
   ]
  },
  {
   "cell_type": "code",
   "execution_count": 7,
   "id": "91b15317",
   "metadata": {},
   "outputs": [],
   "source": [
    "from langchain_text_splitters import RecursiveCharacterTextSplitter\n",
    "splitter = RecursiveCharacterTextSplitter(\n",
    "    chunk_size = 1000,\n",
    "    chunk_overlap = 100\n",
    ")"
   ]
  },
  {
   "cell_type": "code",
   "execution_count": 8,
   "id": "8975ea41",
   "metadata": {},
   "outputs": [
    {
     "data": {
      "text/plain": [
       "156"
      ]
     },
     "execution_count": 8,
     "metadata": {},
     "output_type": "execute_result"
    }
   ],
   "source": [
    "all_chunks = splitter.split_documents(documents=documents)\n",
    "len(all_chunks)"
   ]
  },
  {
   "cell_type": "code",
   "execution_count": 10,
   "id": "73e55345",
   "metadata": {},
   "outputs": [
    {
     "data": {
      "text/plain": [
       "'সম্পেক\\x00\\n \\nজ্ঞানলাভ\\n \\nকরেব।\\n \\nপ্রাক\\n-\\nমূল্যায়ন\\n \\n১।\\n \\nঅনুপেমর\\n \\nবাবা\\n \\nকী\\n \\nকের\\n \\nজীিবকা\\n \\nিনব\\x00াহ\\n \\nকরেতন\\n?\\n \\nক\\n)\\n \\nডাক্তাির\\n \\nখ\\n)\\n \\nওকালিত\\n \\nগ\\n)\\n \\nমাস্টাির\\n \\nঘ\\n)\\n \\nব্যবসা\\n \\n২।\\n \\nমামােক\\n \\nভাগ্য\\n \\n\\x00দবতার\\n \\nপ্রধান\\n \\nএেজন্ট\\n \\nবলার\\n \\nকারণ\\n,\\n \\nতার\\n-\\n \\nক\\n)\\n \\nপ্রিতপিত্ত\\n \\nখ\\n)\\n \\nপ্রভাব\\n \\nগ\\n)\\n \\nিবচক্ষণতা\\n \\nঘ\\n)\\n \\nকূট\\n \\nবুিদ্ধ\\n \\nিনেচর\\n \\nঅনুেচ্ছদটি\\n \\nপেড়\\n \\n৩\\n \\nও\\n \\n৪\\n \\nসংখ্যক\\n \\nপ্রেশ্নর\\n \\nউত্তর\\n \\nদাও।'"
      ]
     },
     "execution_count": 10,
     "metadata": {},
     "output_type": "execute_result"
    }
   ],
   "source": [
    "all_chunks[1].page_content"
   ]
  },
  {
   "cell_type": "markdown",
   "id": "bc2b1a6b",
   "metadata": {},
   "source": [
    "Embedding Model From HF"
   ]
  },
  {
   "cell_type": "code",
   "execution_count": 11,
   "id": "70db5acc",
   "metadata": {},
   "outputs": [],
   "source": [
    "import os\n",
    "from dotenv import load_dotenv\n",
    "load_dotenv()\n",
    "\n",
    "os.environ[\"HF_TOKEN\"] = os.getenv(\"HF_TOKEN\")"
   ]
  },
  {
   "cell_type": "code",
   "execution_count": 12,
   "id": "b63e7566",
   "metadata": {},
   "outputs": [],
   "source": [
    "import getpass\n",
    "import os\n",
    "\n",
    "embeddings = HuggingFaceEmbeddings(model_name=\"sentence-transformers/all-mpnet-base-v2\")"
   ]
  },
  {
   "cell_type": "code",
   "execution_count": 13,
   "id": "4657d088",
   "metadata": {},
   "outputs": [
    {
     "data": {
      "text/plain": [
       "768"
      ]
     },
     "execution_count": 13,
     "metadata": {},
     "output_type": "execute_result"
    }
   ],
   "source": [
    "len(embeddings.embed_query(\"সময়\"))"
   ]
  },
  {
   "cell_type": "markdown",
   "id": "a1948fbf",
   "metadata": {},
   "source": [
    "Pinecone Vector DB"
   ]
  },
  {
   "cell_type": "code",
   "execution_count": 14,
   "id": "d09fabd1",
   "metadata": {},
   "outputs": [],
   "source": [
    "from pinecone import Pinecone\n",
    "os.environ[\"PINECONE_API_KEY\"] = os.getenv(\"PINECONE_API_KEY\")\n",
    "\n",
    "pinecone_api_key = os.getenv(\"PINECONE_API_KEY\")"
   ]
  },
  {
   "cell_type": "code",
   "execution_count": 15,
   "id": "4a20e465",
   "metadata": {},
   "outputs": [],
   "source": [
    "pc = Pinecone(api_key=pinecone_api_key)"
   ]
  },
  {
   "cell_type": "code",
   "execution_count": 16,
   "id": "c96368a5",
   "metadata": {},
   "outputs": [],
   "source": [
    "from pinecone import ServerlessSpec \n",
    "\n",
    "index_name = \"10ms-db-bangla-book\"\n",
    "\n",
    "if not pc.has_index(index_name):\n",
    "    pc.create_index(\n",
    "    name=index_name,\n",
    "    dimension=768,\n",
    "    metric=\"cosine\",\n",
    "    spec=ServerlessSpec(\n",
    "        cloud=\"aws\",\n",
    "        region=\"us-east-1\"\n",
    "    )\n",
    ")"
   ]
  },
  {
   "cell_type": "markdown",
   "id": "42359253",
   "metadata": {},
   "source": [
    "Load the DB"
   ]
  },
  {
   "cell_type": "code",
   "execution_count": 17,
   "id": "85d9749c",
   "metadata": {},
   "outputs": [
    {
     "data": {
      "text/plain": [
       "<pinecone.db_data.index.Index at 0x205958c9400>"
      ]
     },
     "execution_count": 17,
     "metadata": {},
     "output_type": "execute_result"
    }
   ],
   "source": [
    "index = pc.Index(index_name)\n",
    "index"
   ]
  },
  {
   "cell_type": "code",
   "execution_count": 18,
   "id": "2f00af6e",
   "metadata": {},
   "outputs": [
    {
     "data": {
      "text/plain": [
       "<langchain_pinecone.vectorstores.PineconeVectorStore at 0x205958ca3c0>"
      ]
     },
     "execution_count": 18,
     "metadata": {},
     "output_type": "execute_result"
    }
   ],
   "source": [
    "from langchain_pinecone import PineconeVectorStore\n",
    "\n",
    "vector_store = PineconeVectorStore(index=index, embedding=embeddings)\n",
    "vector_store"
   ]
  },
  {
   "cell_type": "code",
   "execution_count": 19,
   "id": "72e0f498",
   "metadata": {},
   "outputs": [
    {
     "data": {
      "text/plain": [
       "['eba7784c-46b2-48ba-b490-fac41b82d2f0',\n",
       " '03579d29-de97-4172-98b0-b1ed9a684a4a',\n",
       " '010de01a-ad57-4385-9a89-111168145eff',\n",
       " '8c8cf7d3-2da5-4a67-b0a5-4f0cca379ea1',\n",
       " '9b8fedaa-6806-4316-a388-efbc3c134d4f',\n",
       " 'ca974d28-1512-44fa-9f0a-983166b50373',\n",
       " '5583fb43-0449-4bcb-847e-2b564f2ec53b',\n",
       " 'f364077d-6843-434f-82ad-250f57491648',\n",
       " '5b7637a2-c6e5-43d1-87e1-402a7be72afe',\n",
       " 'b03797fb-20b0-41b2-862c-e2128cd2ba21',\n",
       " '84169f51-76bf-4701-9806-dde339670ce6',\n",
       " '5ef90d97-ecf2-48bb-ad4e-de1fd9437a39',\n",
       " 'a9935874-2583-498c-8b8f-8f0c3e660bca',\n",
       " 'a6171edb-ea5c-40e9-a849-38c7a80afad2',\n",
       " '74f324e0-6d70-400c-85b7-b06907163603',\n",
       " '5a9a37cf-cf28-4af5-9614-3bed77217918',\n",
       " '5efb006a-2b66-4d5e-97c4-8a6a30214552',\n",
       " '2f59670c-32c7-4b7c-84d6-c3815629dbc1',\n",
       " '95956618-4167-4570-96c8-931145f86a0f',\n",
       " '258d76d8-f1e2-4049-ab8a-dc7391f367d7',\n",
       " 'c5377bdd-b5dd-4505-83ab-36af829fa6da',\n",
       " 'd72fb999-111a-4087-ad51-c5edb82e6e6c',\n",
       " 'b41e2c78-1aa2-4804-a6a6-e55644b0ab92',\n",
       " 'b3711fcb-7649-47ab-8ce8-4da4bd0b899e',\n",
       " 'edd68e48-b50b-4dc2-a97e-2098759a9966',\n",
       " 'cffcbd04-50ca-48b7-a009-f10550dc7710',\n",
       " '1eb4f3cf-e863-4f2b-a8b1-3803e4848a53',\n",
       " 'cf6429f1-533c-42c0-8e37-b3e10f572724',\n",
       " '74f0a096-cf8f-4bdb-ac83-71199cf737f2',\n",
       " 'e6277427-38f4-463a-8170-f11427e42ddb',\n",
       " '060741a5-d329-4037-857b-c03fc7e77316',\n",
       " 'd5fd81e5-97c1-49c6-9f30-8b99699bd781',\n",
       " 'e6767eb9-fe01-4744-a718-9826711f0b6d',\n",
       " '8548f9d8-8c8c-4a43-a4ed-b93b19fc3542',\n",
       " '922301d4-06f5-4bef-a937-1b554aa8101e',\n",
       " '7eaf185b-6792-4eb3-9942-6424df11d866',\n",
       " 'ae09808e-7397-459b-8c5c-1ce314511566',\n",
       " '9a084a61-8d9d-46d6-9568-ab843481618f',\n",
       " '89c70570-ee05-49ff-9d2d-dfcc3dcd7e43',\n",
       " '957ff48e-4d3a-44e4-851c-32a3620f50cb',\n",
       " '34d5d152-9d5d-40b3-a040-3129cbe5d5cd',\n",
       " '50dc70f2-edc1-4f21-9d39-f5fbe43c6236',\n",
       " '192816b0-e75e-49b4-8033-32f07003817f',\n",
       " 'c8c4952f-cbf9-48a7-8e44-b4adc49a2d1f',\n",
       " 'd180cc82-743b-42f0-b6d7-7bab03a7f7b5',\n",
       " 'cee1b360-7017-4d18-9021-9aa4827d737f',\n",
       " '758dc9e7-fee9-47b1-a2e5-e7a644bf40d4',\n",
       " 'f75170d4-7455-4bea-a215-3abba9288692',\n",
       " 'e0aa9673-c533-448c-8b03-be8316944bae',\n",
       " 'ca6e34b8-f2e7-4974-ae06-b2c5c2d02e6c',\n",
       " '95d4d7d6-313d-48ac-b006-a5c037775b43',\n",
       " '0877c55f-c473-43ce-a72c-b42291a1c7da',\n",
       " 'a37c93f7-6e47-482f-b40d-e0f48c2d97bf',\n",
       " '1e7e93b4-62c2-4e85-9565-d34c9d822b78',\n",
       " 'cb54cfe7-ac57-44eb-89b9-8762e95ba95b',\n",
       " '5486ef14-4eba-4ad0-a940-cdcc514b1e6a',\n",
       " 'e048c8d2-0a99-44dd-988b-f61a4bae86fd',\n",
       " '04574771-e5a9-4cec-8aee-72afe3b5be33',\n",
       " '0d336869-4fe8-4652-ac10-4d16347a562d',\n",
       " 'c5f9e7fc-ff23-4f76-b54c-0d00e28c49eb',\n",
       " 'e2d58942-5325-49cb-b87e-b7d6b888ec8b',\n",
       " 'eff5a067-ab8d-4ba7-8b35-57aed9f42032',\n",
       " '61fe5d6b-5101-46c5-ac42-6c8a22c52645',\n",
       " '380b4afb-8694-45bb-bfb2-61ac0875aad6',\n",
       " '393a40c5-bf0d-45c5-9b3a-2b306f069814',\n",
       " 'f0308267-d16e-4c9e-92c4-f4fb6717e4d7',\n",
       " '8b0e69d6-d0ba-46d4-ba1c-ab290e766884',\n",
       " '517bbf30-a308-4d24-8585-29675a404d87',\n",
       " 'ca2d1037-9e0a-449d-9330-3acff5bc39b6',\n",
       " '66028679-cf8e-4fb9-a821-e6aa9fdff86e',\n",
       " 'eb4541a2-4b48-4a02-94ae-b900430042f0',\n",
       " '4688f2c3-08bd-4d20-a0ee-210c396c74ea',\n",
       " '23414e4d-5010-4074-b19a-93bbfbba5114',\n",
       " '51e96312-8a5c-41ff-8b11-31bf7890f23f',\n",
       " 'e19fb5e7-b16d-4f88-bc3c-4ae0b820db42',\n",
       " 'c924f43a-93da-444f-aadd-6c99394258ff',\n",
       " '6d63b800-13fa-4331-a28b-59e16a509143',\n",
       " 'a3517f5d-b479-48f9-aac5-4af1d2b2dd0f',\n",
       " '63edd38b-f238-4a12-b954-55385f21d6cb',\n",
       " '1b649c63-1358-48f4-ab7e-ea72d4ed37ac',\n",
       " 'ee793afe-7c00-4e7a-ae1e-ab9f2ee0a44c',\n",
       " '7c6c7aba-5774-4f96-a249-08648c2b41f8',\n",
       " '441fc362-06be-4231-bbdb-c7bcc7608bb1',\n",
       " '2ae1be69-7be1-48e3-a3a3-30a61cfc9dfe',\n",
       " '41a8736e-eb87-4a0e-a773-cca4452ac75a',\n",
       " '3ddbc288-2ce7-4750-a62a-dcf7e38290b6',\n",
       " 'b4c693bb-b474-4d84-b2fc-95df1cac895d',\n",
       " 'a84e0fad-fb55-4740-9c4d-ff04bddde0ff',\n",
       " '67c4f7cd-4519-482a-a8e0-b092b3055e72',\n",
       " '2e5949d3-0dfc-44ca-8a36-67ee399e9e7e',\n",
       " '0611f483-7f56-4556-bcfb-b5ece8f36ec1',\n",
       " '557206d3-cc9e-4562-a9e8-e7de0fda51a2',\n",
       " 'b503251a-ef91-46b9-baf9-371364f12296',\n",
       " '9567ec55-2c84-4cfd-bcc5-0caa195180be',\n",
       " 'b0f65335-4b0f-42e4-b9d5-8817aa164a9f',\n",
       " 'c8c9977e-b8d5-4f55-ad80-96681f3c0746',\n",
       " '4c32e558-dcad-4a69-ab10-c2a5e7a108cc',\n",
       " 'fac46268-6c27-497f-83a2-cf8b6bea3572',\n",
       " '816c82ad-bdfb-488f-9412-0d4a0952b31b',\n",
       " '662df301-42d7-4734-a174-defa5260ce96',\n",
       " '30519da3-8ad6-4382-9cd2-ff06c7b521a2',\n",
       " '574aa58f-186d-400b-b792-31af7d580c0c',\n",
       " '20b34f9c-e753-4a40-beef-e9a2c4a28231',\n",
       " '7204d5ef-80de-4c0b-97d7-e6b1cef3d0c5',\n",
       " 'eb8febcd-6843-4564-a63f-30df95cad2c3',\n",
       " '3c2f72e3-15a1-4a3f-ac80-75d56246b263',\n",
       " 'c89f0e27-25c1-487d-a886-4f96e7b01406',\n",
       " 'dfa2367b-12ee-4985-910a-aa37f4064edc',\n",
       " 'ff9c3f70-679d-471c-9fb2-aeca3320ba93',\n",
       " 'b7d477fb-5e93-40cc-92e7-947e29615669',\n",
       " '26b68242-5a45-4d6b-8a41-e529a3736f0e',\n",
       " '8cbe0d6e-034f-4ce4-acd2-bf171d3d0bd2',\n",
       " '6b6d4a94-278a-4811-b402-593f5b6b5456',\n",
       " '1f56e121-19ae-42e0-8ad1-c87d17191ccd',\n",
       " 'e9076db4-df8b-414c-8cbd-fa590b4eb627',\n",
       " '11fecdf3-edb4-4bd2-89ef-23aea69a3fc8',\n",
       " 'c68468b7-6da6-4200-828c-4eb94cc0bdf7',\n",
       " '3f51142c-132f-4e37-b616-57604f2fa0a1',\n",
       " 'cea63601-94a4-4d63-aa71-45be94079e71',\n",
       " 'd0ff6b12-45b7-4d80-9a62-832fa6063d16',\n",
       " 'c487394c-1a5e-4944-9835-f2234266a832',\n",
       " 'ae9b44c0-43e1-4795-958d-b63cf1deddba',\n",
       " '6c7ff985-d147-402f-8c8b-7f79444e2079',\n",
       " 'ef356491-a5e6-423d-b23c-2161f0668755',\n",
       " '816e10c1-6a99-4da5-976a-fcd2a3fb2293',\n",
       " '607026ea-5b19-47ec-a85d-f2d6f987df02',\n",
       " '1bc7bfba-ae81-4b7d-b374-7fbd34850bef',\n",
       " '7ce2c9ee-708a-4b45-abf0-5cc8ef7c689d',\n",
       " 'e5d16a17-c752-443d-969a-7bb2fdc13472',\n",
       " '8ce74dd2-14a1-462d-b09b-77a32a52a24c',\n",
       " 'defffb93-2781-48c3-8ac5-a36a06ef0b16',\n",
       " '6e22dabb-673a-4e94-a023-7bddd3529493',\n",
       " '1c43dd04-8156-4ef8-8617-830eecb5f1ae',\n",
       " '26b6f7c8-0038-4e3a-8ccd-cc2124cb5d87',\n",
       " '1364b4f4-3ff2-42da-b010-4cc84fe885f2',\n",
       " '512726de-7ef4-488a-b658-738f889c2ab7',\n",
       " 'c8bafd82-a1c2-4dfd-a14a-7acac1a7321f',\n",
       " 'bb041b2b-a1db-48f1-8aff-c33ce6bdd809',\n",
       " '78bbf4d1-0b24-4dde-9f15-3df7f71e8640',\n",
       " 'd17f3e35-c634-44f7-82bf-6ae715afa03f',\n",
       " 'eea11ed1-76df-4a6b-b0a7-46c48ddd71e3',\n",
       " '12ca12cc-d693-4b87-9dae-7a9dffe956be',\n",
       " 'eee54245-7bcf-4511-b11a-9e13b5c0b1c0',\n",
       " '849ec470-08c0-4aad-b9c2-873a35356e7c',\n",
       " 'd6d097d5-199d-4b12-8d92-c0f4643df3b9',\n",
       " '0fa42176-adf0-43fa-bf50-bc23110a9fd2',\n",
       " '3d770ef4-c669-49e4-a489-dc6e97ecb151',\n",
       " 'afae12cf-6ee6-4e9c-98c7-3c2c9da55abc',\n",
       " 'f5c52954-bd72-49d0-a671-7445d7978c1c',\n",
       " '2be3bd81-fec9-4b46-be50-88c77cdf3853',\n",
       " 'ab8deb23-ea0e-4aa3-a00d-6de5d93b2bb1',\n",
       " '32d40d29-c59e-4a08-82fb-8c602ba614e3',\n",
       " 'aa64f519-fc2e-43a3-afbf-9979ffa8fce9',\n",
       " '51b4c508-e793-40d8-a281-214694c08eae',\n",
       " 'bd1649e5-b77a-4989-bdab-ec06b045a9d4',\n",
       " '8c8843b2-62fa-44f0-b83b-b24d600e73fa']"
      ]
     },
     "execution_count": 19,
     "metadata": {},
     "output_type": "execute_result"
    }
   ],
   "source": [
    "vector_store.add_documents(documents=all_chunks)"
   ]
  },
  {
   "cell_type": "code",
   "execution_count": 20,
   "id": "45a502c4",
   "metadata": {},
   "outputs": [],
   "source": [
    "def format_docs(retriever_docs):\n",
    "    context_text = \"\\n\\n\".join(doc.page_content for doc in retriever_docs)\n",
    "    return context_text"
   ]
  },
  {
   "cell_type": "code",
   "execution_count": 21,
   "id": "174196bc",
   "metadata": {},
   "outputs": [],
   "source": [
    "retriever = vector_store.as_retriever(\n",
    "    search_type = \"similarity\",\n",
    "    search_kwargs={\n",
    "        \"k\": 5\n",
    "    }\n",
    ")"
   ]
  },
  {
   "cell_type": "code",
   "execution_count": 22,
   "id": "de5fd134",
   "metadata": {},
   "outputs": [
    {
     "data": {
      "text/plain": [
       "[Document(id='f364077d-6843-434f-82ad-250f57491648', metadata={'creationdate': '', 'creator': 'PyPDF', 'page': 3.0, 'page_label': '4', 'producer': 'Skia/PDF m140 Google Docs Renderer', 'source': 'books/HSC26-Bangla1st-Paper.pdf', 'title': 'HSC26-Bangla1st-Paper', 'total_pages': 55.0}, page_content='অিভিষক্ত  অিভেষক  করা  হেয়েছ  এমন  \\nসওগাঁদ  উপেঢৗকন।  \\x00ভট।  \\n\\x00দওয়া - \\x00থাওয়া  \\x00য  পাথের  ঘেষ  \\x00সানার  খাঁটিত্ব  পরীক্ষা  করা  হয়  \\nকিষ্টপাথর  আলেবালা।  ফরিস।  দীঘ\\x00  নলযুক্ত  হুকািবেশষ'),\n",
       " Document(id='5ef90d97-ecf2-48bb-ad4e-de1fd9437a39', metadata={'creationdate': '', 'creator': 'PyPDF', 'page': 5.0, 'page_label': '6', 'producer': 'Skia/PDF m140 Google Docs Renderer', 'source': 'books/HSC26-Bangla1st-Paper.pdf', 'title': 'HSC26-Bangla1st-Paper', 'total_pages': 55.0}, page_content='ভুিলেত\\n \\n\\x00দন\\n \\nনা।\\n \\nিশশুকােল\\n \\nআিম\\n \\n\\x00কােল\\n \\n\\x00কােলই\\n \\nমানুষ\\n-\\n\\x00বাধ\\n \\nকির\\n,\\n \\n\\x00সইজন্য\\n \\n\\x00শষ\\n \\nপয\\x00ন্ত\\n \\nআমার\\n \\nপুরাপুির\\n \\nবয়সই\\n \\nহইল\\n \\nনা।\\n \\nআজও\\n \\nআমােক\\n \\n\\x00দিখেল\\n \\nমেন\\n \\nহইেব\\n,\\n \\nআিম\\n \\nঅন্নপূণ\\x00ার\\n \\n\\x00কােল\\n \\nগজানেনর\\n \\n\\x00ছােটা\\n \\nভাইটি।'),\n",
       " Document(id='03579d29-de97-4172-98b0-b1ed9a684a4a', metadata={'creationdate': '', 'creator': 'PyPDF', 'page': 0.0, 'page_label': '1', 'producer': 'Skia/PDF m140 Google Docs Renderer', 'source': 'books/HSC26-Bangla1st-Paper.pdf', 'title': 'HSC26-Bangla1st-Paper', 'total_pages': 55.0}, page_content='সম্পেক\\x00\\n \\nজ্ঞানলাভ\\n \\nকরেব।\\n \\nপ্রাক\\n-\\nমূল্যায়ন\\n \\n১।\\n \\nঅনুপেমর\\n \\nবাবা\\n \\nকী\\n \\nকের\\n \\nজীিবকা\\n \\nিনব\\x00াহ\\n \\nকরেতন\\n?\\n \\nক\\n)\\n \\nডাক্তাির\\n \\nখ\\n)\\n \\nওকালিত\\n \\nগ\\n)\\n \\nমাস্টাির\\n \\nঘ\\n)\\n \\nব্যবসা\\n \\n২।\\n \\nমামােক\\n \\nভাগ্য\\n \\n\\x00দবতার\\n \\nপ্রধান\\n \\nএেজন্ট\\n \\nবলার\\n \\nকারণ\\n,\\n \\nতার\\n-\\n \\nক\\n)\\n \\nপ্রিতপিত্ত\\n \\nখ\\n)\\n \\nপ্রভাব\\n \\nগ\\n)\\n \\nিবচক্ষণতা\\n \\nঘ\\n)\\n \\nকূট\\n \\nবুিদ্ধ\\n \\nিনেচর\\n \\nঅনুেচ্ছদটি\\n \\nপেড়\\n \\n৩\\n \\nও\\n \\n৪\\n \\nসংখ্যক\\n \\nপ্রেশ্নর\\n \\nউত্তর\\n \\nদাও।'),\n",
       " Document(id='11fecdf3-edb4-4bd2-89ef-23aea69a3fc8', metadata={'creationdate': '', 'creator': 'PyPDF', 'page': 41.0, 'page_label': '42', 'producer': 'Skia/PDF m140 Google Docs Renderer', 'source': 'books/HSC26-Bangla1st-Paper.pdf', 'title': 'HSC26-Bangla1st-Paper', 'total_pages': 55.0}, page_content=\"িববাহ\\n \\nআসর\\n \\n\\x00থেক\\n \\nিফিরেয়\\n \\n\\x00দবার\\n \\nকারণ\\n \\nকী\\n?\\n \\n(\\nক\\n)\\n \\nঅনুপেমর\\n \\nব্যিক্তত্বহীনতার\\n \\nকারেণ\\n \\n(\\nখ\\n)\\n \\nমামার\\n \\nহীনম্মন্যতার\\n \\nকারেণ\\n \\n(\\nগ\\n)\\n \\nগয়না\\n \\nিনেয়\\n \\nমেনামািলেন্যর\\n \\nকারেণ\\n \\n(\\nঘ\\n)\\n \\nকেনর\\n \\nবাবার\\n \\nআত্মগিরমার\\n \\nকারেণ\\n \\n৭৫।\\n \\n'\\nআমার\\n \\nপুেরাপুির\\n \\nবয়সই\\n \\nহেলা\\n \\nনা\\n'\\n \\nকথাটি\\n \\nদ্বারা\\n \\nকী\\n \\n\\x00বাঝােনা\\n \\nহেয়েছ\\n?\\n \\n(\\nক\\n)\\n \\nতরুণ\\n \\nবয়সী\"),\n",
       " Document(id='1e7e93b4-62c2-4e85-9565-d34c9d822b78', metadata={'creationdate': '', 'creator': 'PyPDF', 'page': 16.0, 'page_label': '17', 'producer': 'Skia/PDF m140 Google Docs Renderer', 'source': 'books/HSC26-Bangla1st-Paper.pdf', 'title': 'HSC26-Bangla1st-Paper', 'total_pages': 55.0}, page_content='িশক্ষাজীবন  রবীন্দ্রনাথ  বাল্যকােল  ওিরেয়ন্টাল  \\x00সিমনাির ,  নম\\x00াল  স্কুল ,  \\x00বঙ্গল  একােডিম ,  \\x00সন্ট  \\x00জিভয়াস\\x00  স্কুল  প্রভৃিত  িশক্ষা  প্রিতষ্ঠােন  অধ্যয়ন  করেলও  স্কুেলর  পাঠ  \\x00শষ  করেত  পােরনিন।  ১৭  বছর  বয়েস  ব্যািরস্টাির  পড়েত  ইংল্যান্ড  \\x00গেলও  \\x00কাস\\x00  সম্পন্ন  করা  সম্ভব  হয়িন।  তেব  গৃহিশক্ষেকর  কাছ  \\x00থেক  জ্ঞানাজ\\x00েন  তাঁর  \\x00কােনা  ত্রুটি  হয়িন।')]"
      ]
     },
     "execution_count": 22,
     "metadata": {},
     "output_type": "execute_result"
    }
   ],
   "source": [
    "response = retriever.invoke(\"বিয়ের সময় কল্যাণীর প্রকৃত বয়স কত ছিল?\")\n",
    "response"
   ]
  },
  {
   "cell_type": "markdown",
   "id": "64af1f29",
   "metadata": {},
   "source": [
    "Importing the LLMs"
   ]
  },
  {
   "cell_type": "code",
   "execution_count": 23,
   "id": "e8c5f0e6",
   "metadata": {},
   "outputs": [],
   "source": [
    "from langchain_groq import ChatGroq\n",
    "\n",
    "llm = ChatGroq(\n",
    "    model=os.getenv(\"LLAMA_MODEL\")\n",
    ")"
   ]
  },
  {
   "cell_type": "markdown",
   "id": "b06490bf",
   "metadata": {},
   "source": [
    "Rag Prompt"
   ]
  },
  {
   "cell_type": "code",
   "execution_count": 24,
   "id": "fefc2e29",
   "metadata": {},
   "outputs": [],
   "source": [
    "from langchain.prompts import PromptTemplate\n",
    "\n",
    "rag_prompt = PromptTemplate(\n",
    "    template=(\n",
    "        \"You are a helpful and intelligent assistant. Your task is to answer the user's question based ONLY on the provided context. \"\n",
    "        \"First, identify the language of the user's 'Question'. \"\n",
    "        \"Then, provide your answer in the SAME language as the question (either English or Bengali).\\n\\n\"\n",
    "        \n",
    "        \"**Rules:**\\n\"\n",
    "        \"1. If the 'Question' is in Bengali, your 'Answer' MUST be in Bengali.\\n\"\n",
    "        \"2. If the 'Question' is in English, your 'Answer' MUST be in English.\\n\"\n",
    "        \"3. If the answer is not found in the 'Context', you must politely state that you don't have enough information. In Bengali say: 'দুঃখিত, উত্তর দেওয়ার মতো পর্যাপ্ত তথ্য আমার কাছে নেই।' In English say: 'Sorry, I do not have enough information to answer that.'\\n\"\n",
    "        \"4. Do not make up any information that is not in the context.\\n\\n\"\n",
    "        \n",
    "        \"--- START OF CONTEXT ---\\n\"\n",
    "        \"{context}\\n\"\n",
    "        \"--- END OF CONTEXT ---\\n\\n\"\n",
    "        \n",
    "        \"Question:\\n{question}\\n\\n\"\n",
    "        \n",
    "        \"Answer (in the same language as the question):\"\n",
    "    ),\n",
    "    input_variables=[\"question\", \"context\"],\n",
    ")"
   ]
  },
  {
   "cell_type": "markdown",
   "id": "4d3760f8",
   "metadata": {},
   "source": [
    "Formatted the Context data"
   ]
  },
  {
   "cell_type": "code",
   "execution_count": 25,
   "id": "fd23ec3f",
   "metadata": {},
   "outputs": [],
   "source": [
    "def format_docs(retriever_docs):\n",
    "    context_text = \"\\n\\n\".join(doc.page_content for doc in retriever_docs)\n",
    "    return context_text"
   ]
  },
  {
   "cell_type": "markdown",
   "id": "041dc665",
   "metadata": {},
   "source": [
    "Define the RAG Chain"
   ]
  },
  {
   "cell_type": "code",
   "execution_count": 26,
   "id": "1f2e48e8",
   "metadata": {},
   "outputs": [
    {
     "data": {
      "image/png": "[encoded data removed]",
      "text/plain": [
       "<IPython.core.display.Image object>"
      ]
     },
     "metadata": {},
     "output_type": "display_data"
    }
   ],
   "source": [
    "from langchain_core.output_parsers import StrOutputParser\n",
    "from langchain_core.runnables import RunnablePassthrough\n",
    "\n",
    "from IPython.display import display, Image\n",
    "rag_chain = (\n",
    "    {\n",
    "        \"context\": retriever | format_docs,\n",
    "        \"question\": RunnablePassthrough()\n",
    "    }\n",
    "    | rag_prompt\n",
    "    | llm\n",
    "    | StrOutputParser()\n",
    ")\n",
    "\n",
    "\n",
    "display(Image(rag_chain.get_graph().draw_mermaid_png()))"
   ]
  },
  {
   "cell_type": "code",
   "execution_count": 27,
   "id": "09c11fee",
   "metadata": {},
   "outputs": [
    {
     "name": "stdout",
     "output_type": "stream",
     "text": [
      "The question is in English.\n",
      "\n",
      "The two national anthems sung on the day of the inauguration were ‘Nkosi Sikelel’ iAfrika’ and ‘Die Stem’, the old anthem of the Republic.\n"
     ]
    }
   ],
   "source": [
    "response = rag_chain.invoke(\"What two national anthems were sung on the day of the inauguration\")\n",
    "print(response)"
   ]
  },
  {
   "cell_type": "code",
   "execution_count": 28,
   "id": "89df97a4",
   "metadata": {},
   "outputs": [
    {
     "data": {
      "text/plain": [
       "'দুঃখিত, উত্তর দেওয়ার মতো পর্যাপ্ত তথ্য আমার কাছে নেই।'"
      ]
     },
     "execution_count": 28,
     "metadata": {},
     "output_type": "execute_result"
    }
   ],
   "source": [
    "rag_chain.invoke(\"কল্যাণী কোন ব্রত গ্রহণ করে?\")"
   ]
  },
  {
   "cell_type": "code",
   "execution_count": 29,
   "id": "e7e03039",
   "metadata": {},
   "outputs": [
    {
     "name": "stdout",
     "output_type": "stream",
     "text": [
      "Sheikh Hasina was the longest-serving prime minister in the country's history until her forced resignation on 5 August 2024, which left the position vacant. Sheikh Hasina (née Wazed; born 28 September 1947) is a Bangladeshi politician who served as the tenth prime minister of Bangladesh from June 1996 to July 2001 ... Sheikh Hasina was sworn in for a fifth term as Bangladesh Prime Minister on January 11, 2024. She fled the country on August 5, 2024 following ... Sheikh Hasina, the deposed prime minister of Bangladesh and chair of Bangladesh Awami League [. EXPLAINER. Why the future of Bangladesh's Muhammad Yunus ... Sheikh Hasina was elected prime minister in 2009 and ruled Bangladesh with an iron fist. Members of her Awami League government ruthlessly ... Sheikh Hasina, the daughter of Sheikh Mujibur Rahman, has served as Prime Minister since January 6, 2009, making her the longest-serving leader in Bangladesh's ... “Sheikh Hasina is coming back as the Prime Minister”: Awami League leader makes big claim · Comments. In 2006, Muhammad Yunus and his Grameen Bank were awarded and accepted the Nobel Peace Prize. Yunus perfectly fitted the profile of the ideal candidate. Nahid Islam, a student protester who was sworn in as a minister in Bangladesh's interim government in 2024, in Dhaka.\n"
     ]
    }
   ],
   "source": [
    "from langchain_community.utilities import GoogleSerperAPIWrapper\n",
    "\n",
    "search = GoogleSerperAPIWrapper(serper_api_key=\"f1c2eb3b3d49414ac092b856ed315ccaade9f65c\")\n",
    "\n",
    "result = search.run(\"Current Prime Minister of Bangladesh\")\n",
    "print(result)"
   ]
  },
  {
   "cell_type": "code",
   "execution_count": 30,
   "id": "a6e23fe8",
   "metadata": {},
   "outputs": [],
   "source": [
    "from langchain_community.utilities import GoogleSerperAPIWrapper\n",
    "\n",
    "search = GoogleSerperAPIWrapper(serper_api_key=\"f1c2eb3b3d49414ac092b856ed315ccaade9f65c\")"
   ]
  },
  {
   "cell_type": "code",
   "execution_count": 31,
   "id": "0b16e938",
   "metadata": {},
   "outputs": [
    {
     "data": {
      "text/plain": [
       "\"১১। অনুপমের মামার মতে কাদের তেজ থাকাটা দোষের? - বেহাই সম্প্রদায়ের। ১২। বিয়ে ভাঙ্গার পর কল্যাণী কি গ্রহণ করেছে? - কল্যাণী নারীশিক্ষার ব্রত গ্রহণ করেছে। ১৩ ... [Question] কল্যাণী কিসের ব্রত গ্রহণ করেছে? ; (ক), দেশমাতৃকার সেবার ; (খ), দেশমাতাকে উদ্ধারের ; (গ), মেয়ে শিক্ষার ; (ঘ), সমাজ সংস্কারের ... কল্যাণী কিসের ব্রত গ্রহণ করেছে? দেশমাতৃকার সেবার দেশমাতাকে উদ্ধারের মেয়ে শিক্ষার সমাজ সংস্কারের সৌজন্যে: মনোয়ারা নার্সিং কলেজ, ঠাকুরগাঁও। কল্যাণী কিসের ব্রত গ্রহণ করেছে? ক. দেশমাতৃকার সেবার. খ. দেশমাতাকে উদ্ধারের. গ. মেয়ে শিক্ষার. ঘ. সমাজ সংস্কারের. Show Answer. কল্যাণী কিসের ব্রত গ্রহণ করেছে? সঠিক উত্তর. ক কল্যাণী মেয়েদের শিক্ষার ব্রত গ্রহণ করেছে । ... উদ্দীপকের অনিমেষের বাবা 'অপরিচিতা' গল্পের কোন চরিত্রের প্রতিনিধিত্ব করেন? সেই বিবাহ-ভাঙার পর হইতে কল্যাণী মেয়েদের শিক্ষার ব্রত গ্রহণ করিয়াছে । ... থেকে শুরু করে তাদের যত্ন করা, মনরক্ষা ইত্যাদি কাজও তাকেই সামাল দিতে হয়। উত্তর : বিবাহ ভাঙার পর থেকে কল্যাণী মেয়েদের শিক্ষার ব্রত গ্রহণ করেছে। প্রশ্ন ১২। অপরিচিতা' গল্পে কাকে গজাননের ছােট ভাই বলা হয়েছে? | বি. বাে, '১৭] উত্তর : 'অপরিচিতা' গল্পে অনুপমকে ... উত্তর : গল্পের নায়িকা কল্যাণী নায়ক অনুপমের কাছে তখনো অপরিচিত বলে গল্পটির নাম 'অপরিচিতা' রাখা হয়েছে। অনুপমের সঙ্গে কল্যাণীর বিবাহ হওয়ার কথা থাকলেও শেষ পর্যন্ত নানা কারণে বিবাহ সম্পন্ন হয় না। বিবাহের কথা ... অপরিচিতা গল্পের সৃজনশীল সাজেশন : পাত্রপক্ষের যৌতুকের স্বর্ণালংকার যাচাই করার মানসিকতার কারণে বিয়ে ভেঙে গেছে বলে কল্যাণী আর বিয়ে করবে না। কল্যাণী বধূ সাজে সেজে বিয়ের জন্য প্রস্তুত। অথচ যৌতুক লোভী পাত্রপক্ষ তাদের গহনা যাচাই করতে ... নাম: রবীন্দ্রনাথ ঠাকুর। ছন্দনাম : ভানুসিংহ ঠাকুর। এ ছদ্মনামে তিনি ভানুসিংহ ঠাকুরের পদাবলী' কাব্য রচনা করেন। উপাধি : বিশ্বকবি। জন্ম : ১৮৬১ সালের মে মাসের ৭ তারিখে (২৫ বৈশাখ ১২৬৮ বঙ্গাব্দ)। জন্মস্থান : জোড়াসাঁকো, কলকাতা, ভারত ...\""
      ]
     },
     "execution_count": 31,
     "metadata": {},
     "output_type": "execute_result"
    }
   ],
   "source": [
    "search.run(\"কল্যাণী কোন ব্রত গ্রহণ করে?\")"
   ]
  },
  {
   "cell_type": "code",
   "execution_count": 32,
   "id": "092b1223",
   "metadata": {},
   "outputs": [
    {
     "data": {
      "text/plain": [
       "'প্রশ্ন: হরিশ কোথায় কাজ করে? সঠিক উত্তর : কানপুরে. \\'Earn by adding a description for the above question! ✨ ... ১। \\'অপরিচিতা\\' গল্পের হরিশ কোথায় কাজ করত? ক) কোলপুর খ) কানপুর]. গ) দিনাজপুর ঘ) ফতেহপুর. ২। প্রদোষ অর্থ কী ... হরিশ চন্দ্র রাজা ছিলেন একজন চাকমা রাজা যিনি ১৮৭৩ থেকে ১৮৮৪ সাল পর্যন্ত শাসন করেছিলেন। তিনি ছিলেন একজন অযোগ্য শাসক এবং তার শাসনকালে চাকমাদের মধ্যে বিদ্রোহ ছড়িয়ে পড়ে। উত্তর :হরিশ কানপুরে কাজ করে। \\'লক্ষ্মী\\' শব্দের অর্থ - · “আমি মাথা হেট করিয়া চুপ করিয়া রহিলাম” - উক্তিটি থেকে বোঝা যায় অনুপম -. i. মেরুদণ্ডহীন. ii. বিবেকবোধহীন. iii. ব্যক্তিত্বহীন. নিচের কোনটি সঠিক? · পাত্রের বাড়ির সবাই রেগে আগুন ... প্রশ্ন : ছুটিতে হরিশ কোথায় এসেছে? উত্তর : ছুটিতে হরিশ কলকাতায় এসেছে। প্রশ্ন : হরিশ অনুপমকে কী ধরনের মেয়ের সন্ধান দিয়েছিল? উত্তর : হরিশ অনুপমকে খাসা মেয়ের সন্ধান দিয়েছিল। প্রশ্ন : অবকাশের ... হরিশ কোথায় কাজ করে? ক) মালদহে খ) বীরভূমে গ) কানপুরে ঘ) ভুজপুরে · Sanjida Tasmin · Raju Ahamed · Aj Mizanur Rahman · JM Ankhi · Mohona Islam Munni · Md. Rakib Ahmmed. অপরিচিতা গল্প অনুপমের বন্ধু হরিশ কোথায় কাজ করতো? ক) নাগপুরে খ) ফরিদপুরে গ) কানপুরে ঘ) কলকাতায়। @everyone · Askandor MI R Ja and 13 others. ক. হরিশ কোথায় কাজ করে?খ. “মেয়ের বয়স যে, পনেরাে তাই শুনিয়া মামার মন ভার হইলাে কেন”? বুঝিয়ে দাও। গ. উদ্দীপকের শিউলির সাথে অপরিচিতা গল্পের কার সাথে সাদৃশ্য পাওয়া যায় আলােচনা কর। আমার বন্ধু হরিশ কানপুরে কাজ করে। সে ছুটিতে কলিকাতায় আসিয়া আমার মন উতলা করিয়া দিল। সে বলিল, \"ওহে, মেয়ে যদি বল একটি খাসা মেয়ে আছে।\"'"
      ]
     },
     "execution_count": 32,
     "metadata": {},
     "output_type": "execute_result"
    }
   ],
   "source": [
    "search.run(\"হরিশ কোথায় কাজ করে?\")"
   ]
  },
  {
   "cell_type": "code",
   "execution_count": 33,
   "id": "a6932e89",
   "metadata": {},
   "outputs": [],
   "source": [
    "from langchain_community.tools import WikipediaQueryRun\n",
    "from langchain_community.utilities import WikipediaAPIWrapper"
   ]
  },
  {
   "cell_type": "code",
   "execution_count": 34,
   "id": "d05c3c37",
   "metadata": {},
   "outputs": [],
   "source": [
    "wikipedia = WikipediaQueryRun(api_wrapper=WikipediaAPIWrapper())"
   ]
  },
  {
   "cell_type": "code",
   "execution_count": 35,
   "id": "55f80ffd",
   "metadata": {},
   "outputs": [
    {
     "data": {
      "text/plain": [
       "'Page: Bangladesh\\nSummary: Bangladesh, officially the People\\'s Republic of Bangladesh, is a country in South Asia. It is the eighth-most populous country in the world and among the most densely populated with a population of over 171 million within an area of 148,460 square kilometres (57,320 sq mi). Bangladesh shares land borders with India to the north, west, and east, and Myanmar to the southeast. It has a coastline along the Bay of Bengal to its south and is separated from Bhutan and Nepal by the Siliguri Corridor, and from China by the Indian state of Sikkim to its north. Dhaka, the capital and largest city, is the nation\\'s political, financial, and cultural centre. Chittagong is the second-largest city and the busiest port of the country. \\nThe territory of modern Bangladesh was a stronghold of many Buddhist and Hindu dynasties in ancient history. Following the Muslim conquest in 1204, the region saw Sultanate and Mughal rule. During the Mughal period, particularly under the Bengal Subah, the region emerged as one of the most prosperous and commercially active parts of the empire, known for its thriving textile industry and agricultural productivity. The Battle of Plassey in 1757 marked the beginning of British colonial rule for the following two centuries. In the aftermath of the Partition of British India in 1947, East Bengal became the eastern and most populous wing of the newly formed Dominion of Pakistan and was later renamed to East Pakistan. Following over two decades of political repression and systematic racism from the West Pakistan-based government, East Pakistan experienced a civil war in 1971; ultimately leading to a war for independence. The Mukti Bahini, with assistance from Indian forces, waged a successful armed revolution; and at the expense of a genocide, Bangladesh became a sovereign nation on 16 December 1971. Post-Independence, Sheikh Mujibur Rahman led the country until his assassination in 1975. Presidency was later transferred to Ziaur Rahman, who himself was assassinated in 1981. The 1980s was dominated by the dictatorship of Hussain Muhammad Ershad, who was overthrown in a mass uprising in 1990. Following the democratisation in 1991, the \"Battle of the Begums\" between Khaleda Zia and Sheikh Hasina defined the country\\'s politics for the next three decades. Hasina was overthrown in a student–led mass uprising in August 2024, and an interim government led by Nobel laureate Muhammad Yunus was formed.\\nBangladesh is a unitary parliamentary republic based on the Westminster system. It is a middle power with the second-largest economy in South Asia. Bangladesh is home to the third-largest Muslim population in the world and the fifth-most spoken native language. It maintains the third-largest military in South Asia and is the largest contributor to the peacekeeping operations of the United Nations. It consists of eight divisions, 64 districts, and 495 sub-districts, and is home to the largest mangrove forest in the world. However, Bangladesh has one of the largest refugee populations in the world and continues to face challenges such as endemic corruption, lack of human rights, political instability, overpopulation, and adverse effects of climate change. It has twice chaired the Climate Vulnerable Forum and is a member of BIMSTEC, SAARC, OIC and the Commonwealth of Nations.\\n\\nPage: Bangladesh Liberation War\\nSummary: The Bangladesh Liberation War (Bengali: মুক্তিযুদ্ধ, pronounced [mukt̪iɟud̪d̪ʱo]), also known as the Bangladesh War of Independence, was an armed conflict sparked by the rise of the Bengali nationalist and self-determination movement in East Pakistan, which resulted in the independence of Bangladesh. The war began when the Pakistani military junta based in West Pakistan—under the orders of Yahya Khan—launched Operation Searchlight against East Pakistanis on the night of 25 March 1971, initiating the Bangladesh genocide.\\nIn response to the violence, members of the Mukti Bahini—a guerrilla resist'"
      ]
     },
     "execution_count": 35,
     "metadata": {},
     "output_type": "execute_result"
    }
   ],
   "source": [
    "wikipedia.invoke(\"bangladesh\")"
   ]
  },
  {
   "cell_type": "code",
   "execution_count": 36,
   "id": "61d0154a",
   "metadata": {},
   "outputs": [
    {
     "name": "stderr",
     "output_type": "stream",
     "text": [
      "C:\\Users\\nahid\\AppData\\Local\\Temp\\ipykernel_5696\\2664684933.py:5: LangChainDeprecationWarning: The class `TavilySearchResults` was deprecated in LangChain 0.3.25 and will be removed in 1.0. An updated version of the class exists in the :class:`~langchain-tavily package and should be used instead. To use it run `pip install -U :class:`~langchain-tavily` and import as `from :class:`~langchain_tavily import TavilySearch``.\n",
      "  tool = TavilySearchResults()\n"
     ]
    },
    {
     "name": "stdout",
     "output_type": "stream",
     "text": [
      "[{'title': 'Mohammed Shahabuddin - Wikipedia', 'url': 'https://en.wikipedia.org/wiki/Mohammed_Shahabuddin', 'content': 'Bangladesh\\n\\nMohammed Shahabuddin (born 10 December 1949) is a Bangladeshi jurist, journalist, civil servant and politician who has served as the 16th and current president of Bangladesh since 2023. He was elected unopposed in the 2023 presidential election as the nominee of the ruling Awami League. Prior to his presidency, Shahabuddin served as a district and sessions judge and a commissioner of the Anti-Corruption Commission \"Anti-Corruption Commission (Bangladesh)\") from 2011 to 2016. [...] | His Excellency  Mohammed Shahabuddin | |\\n| --- | --- |\\n| মোহাম্মদ সাহাবুদ্দিন | |\\n| Shahabuddin in 2023 | |\\n|  | |\\n| 17th President of Bangladesh | |\\n| Incumbent | |\\n| Assumed office  24 April 2023 | |\\n| Prime Minister |  Sheikh Hasina  Muhammad Yunus (Interim) |\\n| Preceded by | Mohammad Abdul Hamid |\\n|  | |\\n| Personal details | |\\n| Born | (1949-12-10) 10 December 1949 (age 75) Pabna, East Bengal, Dominion of Pakistan |\\n| Nationality | Bangladeshi | [...] Shahabuddin was sworn in as the 22nd President of Bangladesh in a ceremony at the Bangabhaban on 24 April 2023. Jatiya Sangsad Speaker Shirin Sharmin Chaudhury administered the oath. Prime Minister Sheikh Hasina, Chief Justice Hasan Foez Siddique, Sheikh Rehana, cabinet members, and other guests attended the state ceremony. After the swearing-in ceremony, Shahabuddin and outgoing president Mohammad Abdul Hamid officially switched their seats as part of the ceremony of changing the charge of the', 'score': 0.9304142}, {'title': 'President of Bangladesh - Wikipedia', 'url': 'https://en.wikipedia.org/wiki/President_of_Bangladesh', 'content': '| President of the People\\'s Republic of Bangladesh | |\\n| --- | --- |\\n| গণপ্রজাতন্ত্রী বাংলাদেশের রাষ্ট্রপতি | |\\n| Seal of the president | |\\n| Standard of the president | |\\n| Incumbent Mohammed Shahabuddin since 24 April 2023 | |\\n| Head of state of the People\\'s Republic of Bangladesh Executive branch of the Government of Bangladesh | |\\n| Style \"Style (form of address)\") |  Mr. President \"Mr. President (title)\") (informal)  The Honorable (formal)  His Excellency (diplomatic) | [...] Mohammed Shahabuddin was the president; he was elected unopposed on 13 February 2023. He took office for a five-year term on Monday, 24 April 2023.\\n\\n## Powers and duties\\n\\nCurrently, although the position of president holds de jure importance, its de facto powers are largely ceremonial. The Constitution allows the president to act only upon the advice of the prime minister and his/her Cabinet.\\n\\n### Appointments powers\\n\\nThe president can appoint the following to office:\\n\\n### Prerogative of mercy [...] (2024)  Yunus (2024-) | | |', 'score': 0.86136365}, {'title': 'Bangladesh: Heads of State: 1971-2025 - Archontology.org', 'url': 'https://www.archontology.org/nations/bangladesh/00_1971_td_s.php', 'content': \"| 20 Mar 2013 - 24 Apr 2013 | Mohāmmad Ābdul Hāmid = Mohammad Abdul Hamid |\\n| Rāṣṭrapati Ganaprajātantrī Bāṃlādeśa = President of the People's Republic of Bangladesh | |\\n| 24 Apr 2013 - 24 Apr 2023 | Mohāmmad Ābdul Hāmid = Mohammad Abdul Hamid \\ufeff |\\n| 24 Apr 2023 - | Mohāmmad Śāhābuddin = Mohammed Shahabuddin | [...] ### Bangladesh: Heads of State: 1971-2025\\n\\n|  |  |\\n| --- | --- |\\n| \\ufeff | |\\n|  | Pending the taking office by Rāṣṭrapati Ganaprajātantrī Bāṃlādeśa = President of the People's Republic of Bangladesh. |\\n|  | In full: Abdul Qasim Mohammad Badruddoza Chowdhury. | [...] | Spikāra kartṛka astāyī Rāṣṭrapati = Speaker acting as President | |\\n| 21 Jun 2002 - 6 Sep 2002 | Mohāmmad Jamiruddīn Sarkār = Mohammad Jamiruddin Sircar |\\n| Rāṣṭrapati Ganaprajātantrī Bāṃlādeśa = President of the People's Republic of Bangladesh | |\\n| 6 Sep 2002 - 12 Feb 2009 | Iyāj Uddīn Āhmmed = Iajuddin Ahmed |\\n| 12 Feb 2009 - 20 Mar 2013 | Mohāmmad Jillur Rahmān = Mohammad Zillur Rahman |\\n| Spikāra kartṛka astāyī Rāṣṭrapati = Speaker acting as President | |\", 'score': 0.81025416}, {'title': '2026 Bangladeshi general election - Wikipedia', 'url': 'https://en.wikipedia.org/wiki/2026_Bangladeshi_general_election', 'content': '|  |\\n| --- |\\n| This article is part of a series on the |\\n| Politics of Bangladesh |\\n|  |\\n|  |\\n| Constitution   Amendments  Law of Bangladesh  Bangladesh Code  Penal Code  Human rights  Article 70  Judicial review |\\n| Government   President: Mohammed Shahabuddin  Chief Adviser \"Chief Adviser (Bangladesh)\"): Muhammad Yunus  Cabinet: Yunus (interim)  Taxation  Agencies  Civil Service  Local governments | [...] by President Mohammed Shahabuddin. Khaleda Zia was released by the President of Bangladesh following Hasina\\'s resignation. [...] GM Quader 2023.png\\nKhaleda_Zia_Poses_for_a_Photo_with_Secretary_Kerry_at_U.S._Embassy_Dhaka_(29284522026)_(cropped).jpg\\nSyed Muhammad Rezaul Karim (2019).jpg\\nIncrease\\nIncrease\\nIncrease\\nShafiqur Rahman.jpg\\nNahid Islam in 2024.jpg\\nIncrease\\nIncrease\\n\\n|  |  |\\n| --- | --- |\\n| Incumbent Chief Adviser  Muhammad Yunus  Independent (interim) |  |\\n\\nMuhammad Yunus  \\nIndependent (interim)', 'score': 0.7578844}, {'title': 'Bangladesh interim government head signals possible early election', 'url': 'https://www.reuters.com/world/asia-pacific/bangladesh-interim-government-head-signals-possible-early-election-2025-06-13/', 'content': \"# Bangladesh interim government head signals possible early election\\n\\nMuhammad Yunus, interim head of the Bangladesh government\\n\\nSign up  here.\\n\\nReporting by Ruma Paul; Editing by Alex Richardson\\n\\nOur Standards: The Thomson Reuters Trust Principles., opens new tab\\n\\n## Read Next [...] Australia-UK Ministerial Consultations (AUKMIN) in Sydney\\nSupporters of the recall vote movement gather in Taipei\\nImages of five activists Simon Cheng, Frances Hui, Joey Siu, Johnny Fok, and Tony Choi are displayed during a press conference to issue arrest warrants in Hong Kong\\nU.S. Secretary of State Rubio meets with Pakistani Foreign Minister Dar in Washington\\nLSEG Workspace\\n\\n## World\\n\\nPresident Donald Trump is shown at West Point Military Academy, New York [...] ### Trump's distraction methods fall flat against Epstein uproar\\n\\nDonald Trump's super powers as a public figure have long included the ability to redirect, evade and deny. They're not working this time.\\n\\nEgypt's President Abdel Fattah al-Sisi and French President Emmanuel Macron visit El Arish Hospital\\nTrump wants immigrants to self-deport. This couple actually did it.\\nRussia's Foreign Minister Lavrov holds annual press conference in Moscow\\nAftermath of a Russian missile attack in Kamianske\", 'score': 0.34800282}]\n"
     ]
    }
   ],
   "source": [
    "import os\n",
    "from langchain_community.tools.tavily_search import TavilySearchResults\n",
    "\n",
    "os.environ[\"TAVILY_API_KEY\"] = \"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\"\n",
    "tool = TavilySearchResults()\n",
    "print(tool.run(\"Current president of Bangladesh\"))\n"
   ]
  },
  {
   "cell_type": "code",
   "execution_count": 37,
   "id": "0527bcbb",
   "metadata": {},
   "outputs": [],
   "source": [
    "from langchain_tavily import TavilySearch\n",
    "\n",
    "tool = TavilySearch(\n",
    "    max_results=5,\n",
    "    topic=\"general\",\n",
    "    # include_answer=False,\n",
    "    # include_raw_content=False,\n",
    "    # include_images=False,\n",
    "    # include_image_descriptions=False,\n",
    "    # search_depth=\"basic\",\n",
    "    # time_range=\"day\",\n",
    "    # include_domains=None,\n",
    "    # exclude_domains=None\n",
    ")"
   ]
  },
  {
   "cell_type": "code",
   "execution_count": 38,
   "id": "b5c7d1dd",
   "metadata": {},
   "outputs": [
    {
     "data": {
      "text/plain": [
       "{'query': 'হরিশ কোথায় কাজ করে?',\n",
       " 'follow_up_questions': None,\n",
       " 'answer': None,\n",
       " 'images': [],\n",
       " 'results': [{'url': 'https://sattacademy.com/academy/written/%E0%A6%B9%E0%A6%B0%E0%A6%BF%E0%A6%B6-%E0%A6%95%E0%A7%8B%E0%A6%A5%E0%A6%BE%E0%A6%AF%E0%A6%BC-%E0%A6%95%E0%A6%BE%E0%A6%9C-%E0%A6%95%E0%A6%B0%E0%A7%87-23855',\n",
       "   'title': 'হরিশ কোথায় কাজ করে? (জ্ঞানমূলক) - Satt Academy',\n",
       "   'content': 'উত্তর :হরিশ কানপুরে কাজ করে।',\n",
       "   'score': 0.8914433,\n",
       "   'raw_content': None},\n",
       "  {'url': 'https://sattacademy.com/admission/single-question?ques_id=280613',\n",
       "   'title': 'হরিশ কোথায় কাজ করে? - Satt Academy',\n",
       "   'content': \"প্রশ্ন: হরিশ কোথায় কাজ করে? সঠিক উত্তর : কানপুরে. 'Earn by adding a description for the above question! ✨\",\n",
       "   'score': 0.8377398,\n",
       "   'raw_content': None},\n",
       "  {'url': 'https://www.ittefaq.com.bd/29051/%E2%80%98%E0%A6%85%E0%A6%AA%E0%A6%B0%E0%A6%BF%E0%A6%9A%E0%A6%BF%E0%A6%A4%E0%A6%BE%E2%80%99-%E0%A6%97%E0%A6%B2%E0%A7%8D%E0%A6%AA%E0%A7%87%E0%A6%B0-%E0%A6%B9%E0%A6%B0%E0%A6%BF%E0%A6%B6-%E0%A6%95%E0%A7%8B%E0%A6%A5%E0%A6%BE%E0%A7%9F-%E0%A6%95%E0%A6%BE%E0%A6%9C-%E0%A6%95%E0%A6%B0%E0%A6%A4',\n",
       "   'title': \"'অপরিচিতা' গল্পের হরিশ কোথায় কাজ করত? - The Daily Ittefaq\",\n",
       "   'content': \"১। 'অপরিচিতা' গল্পের হরিশ কোথায় কাজ করত? ক) কোলপুর খ) কানপুর]. গ) দিনাজপুর ঘ) ফতেহপুর. ২। প্রদোষ অর্থ কী\",\n",
       "   'score': 0.72489023,\n",
       "   'raw_content': None},\n",
       "  {'url': 'https://bn.quora.com/%E0%A6%85%E0%A6%AA%E0%A6%B0%E0%A6%BF%E0%A6%9A%E0%A6%BF%E0%A6%A4%E0%A6%BE-%E0%A6%97%E0%A6%B2%E0%A7%8D%E0%A6%AA%E0%A7%87%E0%A6%B0-%E0%A6%B9%E0%A6%B0%E0%A6%BF%E0%A6%B6',\n",
       "   'title': 'অপরিচিতা গল্পের হরিশ কোথায় কাজ করে? - Quora',\n",
       "   'content': 'হরিশ চন্দ্র রাজা ছিলেন একজন চাকমা রাজা যিনি ১৮৭৩ থেকে ১৮৮৪ সাল পর্যন্ত শাসন করেছিলেন। তিনি ছিলেন একজন অযোগ্য শাসক এবং তার শাসনকালে চাকমাদের মধ্যে বিদ্রোহ ছড়িয়ে পড়ে।',\n",
       "   'score': 0.71948266,\n",
       "   'raw_content': None},\n",
       "  {'url': 'https://chorcha.net/question/%E0%A6%B9%E0%A6%B0%E0%A6%BF%E0%A6%B6-%E0%A6%95%E0%A7%8B%E0%A6%A5%E0%A6%BE%E0%A6%AF%E0%A6%BC-%E0%A6%95%E0%A6%BE%E0%A6%9C-%E0%A6%95%E0%A6%B0%E0%A6%A4-oI9YnDAELu',\n",
       "   'title': 'হরিশ কোথায় কাজ করত?',\n",
       "   'content': \"'লক্ষ্মী' শব্দের অর্থ - · “আমি মাথা হেট করিয়া চুপ করিয়া রহিলাম” - উক্তিটি থেকে বোঝা যায় অনুপম -. i. মেরুদণ্ডহীন. ii. বিবেকবোধহীন. iii. ব্যক্তিত্বহীন. নিচের কোনটি সঠিক? · পাত্রের বাড়ির সবাই রেগে আগুন\",\n",
       "   'score': 0.41577685,\n",
       "   'raw_content': None}],\n",
       " 'response_time': 2.8}"
      ]
     },
     "execution_count": 38,
     "metadata": {},
     "output_type": "execute_result"
    }
   ],
   "source": [
    "tool.invoke(\"হরিশ কোথায় কাজ করে?\")"
   ]
  },
  {
   "cell_type": "code",
   "execution_count": 39,
   "id": "2cddfb4c",
   "metadata": {},
   "outputs": [
    {
     "data": {
      "text/plain": [
       "{'query': \"অপরিচিতা” প্রথম প্রকাশিত হয় প্রমথ চৌধুরী সম্পাদিত মাসিক 'সবুজপত্র' পত্রিকার ১৩২১ বঙ্গাব্দের (১৯১৪) কার্তিক সংখ্যায়।\",\n",
       " 'follow_up_questions': None,\n",
       " 'answer': None,\n",
       " 'images': [],\n",
       " 'results': [{'url': 'https://www.facebook.com/hscsug/posts/%E0%A6%85%E0%A6%AA%E0%A6%B0%E0%A6%BF%E0%A6%9A%E0%A6%BF%E0%A6%A4%E0%A6%BE-%E0%A6%97%E0%A6%B2%E0%A7%8D%E0%A6%AA%E0%A7%87%E0%A6%B0-%E0%A6%AC%E0%A7%8D%E0%A6%AF%E0%A6%BE%E0%A6%96%E0%A7%8D%E0%A6%AF%E0%A6%BE-%E0%A6%93-%E0%A6%AE%E0%A7%82%E0%A6%B2%E0%A6%AD%E0%A6%BE%E0%A6%AC%E0%A6%85%E0%A6%AA%E0%A6%B0%E0%A6%BF%E0%A6%9A%E0%A6%BF%E0%A6%A4%E0%A6%BE-%E0%A6%97%E0%A6%B2%E0%A7%8D%E0%A6%AA%E0%A7%87%E0%A6%B0-%E0%A6%AE%E0%A7%82%E0%A6%B2%E0%A6%AD%E0%A6%BE%E0%A6%AC%E0%A6%85%E0%A6%AA%E0%A6%B0%E0%A6%BF%E0%A6%9A%E0%A6%BF%E0%A6%A4%E0%A6%BE-%E0%A6%AA%E0%A7%8D%E0%A6%B0%E0%A6%A5%E0%A6%AE-%E0%A6%AA%E0%A7%8D%E0%A6%B0%E0%A6%95%E0%A6%BE%E0%A6%B6%E0%A6%BF%E0%A6%A4-%E0%A6%B9/612823854966558/',\n",
       "   'title': \"এ এবং পরে, 'গল্পগুচ্ছ' তৃতীয় খণ্ডে (১৯২৭)। “অপরিচিতা” গল্পে ... - Facebook\",\n",
       "   'content': \"অপরিচিতা গল্পের ব্যাখ্যা ও মূলভাব ////// অপরিচিতা গল্পের মূলভাব “অপরিচিতা” প্রথম প্রকাশিত হয় প্রমথ চৌধুরী সম্পাদিত মাসিক 'সবুজপত্র' পত্রিকার ১৩২১ বঙ্গাব্দের (১৯১৪) কার্তিক সংখ্যায়।\",\n",
       "   'score': 0.914176,\n",
       "   'raw_content': None}],\n",
       " 'response_time': 2.56}"
      ]
     },
     "execution_count": 39,
     "metadata": {},
     "output_type": "execute_result"
    }
   ],
   "source": [
    "tool.invoke(\"অপরিচিতা” প্রথম প্রকাশিত হয় প্রমথ চৌধুরী সম্পাদিত মাসিক 'সবুজপত্র' পত্রিকার ১৩২১ বঙ্গাব্দের (১৯১৪) কার্তিক সংখ্যায়।\")"
   ]
  },
  {
   "cell_type": "code",
   "execution_count": null,
   "id": "5fe21cbe",
   "metadata": {},
   "outputs": [],
   "source": []
  }
 ],
 "metadata": {
  "kernelspec": {
   "display_name": ".venv",
   "language": "python",
   "name": "python3"
  },
  "language_info": {
   "codemirror_mode": {
    "name": "ipython",
    "version": 3
   },
   "file_extension": ".py",
   "mimetype": "text/x-python",
   "name": "python",
   "nbconvert_exporter": "python",
   "pygments_lexer": "ipython3",
   "version": "3.13.5"
  }
 },
 "nbformat": 4,
 "nbformat_minor": 5
}
